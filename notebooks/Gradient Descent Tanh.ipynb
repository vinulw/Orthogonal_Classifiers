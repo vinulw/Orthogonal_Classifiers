{
 "cells": [
  {
   "cell_type": "code",
   "execution_count": 24,
   "id": "ac035a7f",
   "metadata": {},
   "outputs": [],
   "source": [
    "import numpy as np\n",
    "from ncon import ncon\n",
    "import scipy\n",
    "import matplotlib.pyplot as plt"
   ]
  },
  {
   "cell_type": "code",
   "execution_count": 11,
   "id": "e6f3a2ab",
   "metadata": {},
   "outputs": [],
   "source": [
    "# Generate sample data \n",
    "nQbLabel = 2\n",
    "labelDim = 2**nQbLabel\n",
    "\n",
    "nCopies = 2\n",
    "nQb = nQbLabel * nCopies\n",
    "stateDim = 2**nQb\n",
    "\n",
    "nClasses = 3 # Number of classes\n",
    "nPerClass = 10 # Number of states per class\n",
    "N = nClasses * nPerClass"
   ]
  },
  {
   "cell_type": "code",
   "execution_count": 22,
   "id": "6803bc32",
   "metadata": {},
   "outputs": [],
   "source": [
    "# Generate state data and label data\n",
    "states = np.zeros((N, labelDim))\n",
    "labels = np.zeros(N)\n",
    "for n in range(nClasses):\n",
    "    v0 = np.random.randn(labelDim) \n",
    "    states[n*nPerClass: (n+1)*nPerClass] = v0 + 0.01*np.random.randn(nPerClass, labelDim)\n",
    "    labels[n*nPerClass: (n+1)*nPerClass] = n\n",
    "    \n",
    "# Make sure states are normalised\n",
    "states = states / np.linalg.norm(states, axis=1)[:, np.newaxis]"
   ]
  },
  {
   "cell_type": "code",
   "execution_count": null,
   "id": "37bc6246",
   "metadata": {},
   "outputs": [],
   "source": [
    "def costTanh(states, labels, V):\n",
    "    '''\n",
    "    Calculate the Tanh Cost function for a given V. \n",
    "    '''\n",
    "    \n",
    "    V"
   ]
  },
  {
   "cell_type": "code",
   "execution_count": null,
   "id": "0ccdf587",
   "metadata": {},
   "outputs": [],
   "source": [
    "def gradientDescentTanh(states, labels, lr=1e-1, V0=None, maxIter=1e3, verbose=True):\n",
    "    '''\n",
    "    Optimise Tanh cost function using gradient descent. \n",
    "    \n",
    "        Parameters\n",
    "        ----------\n",
    "        states : np.array (N, stateDim)\n",
    "                 States representing input data. \n",
    "        labels : np.array (N, )\n",
    "                 Labels assigned to states given as a number. \n",
    "        lr : float\n",
    "             Learning ratr / step size during gradient descent. \n",
    "        V0 : np.array (stateDim, stateDim)\n",
    "             Initial guess for V that optimises the tanh cost function. \n",
    "        maxIter : int\n",
    "                  Maximum number of steps          \n",
    "    '''\n",
    "    stateDim = states.shape[1]\n",
    "    \n",
    "    if V0 is None:\n",
    "        V0 = np.random.randn(stateDim, stateDim) + 1j*np.random.randn(stateDim, stateDim)\n",
    "        V0, _ = scipy.linalg.polar(V0)\n",
    "        \n",
    "    g = gradientTanh(states, labels, V0)\n",
    "    V = V0\n",
    "    \n",
    "    i = 0\n",
    "    \n",
    "    while i < maxIter:\n",
    "        # Gradient descent step\n",
    "        V = V - lr*g\n",
    "        \n",
    "        # Enforce unitarity\n",
    "        V, _ = scipy.linalg.polar(V)\n",
    "        \n",
    "        i += 1\n",
    "        \n",
    "        if verbose and not(i%50):\n",
    "            cost = costTanh(states, labels, V)\n",
    "            acc = accuracyV(states, labels, V)\n",
    "            print('iteration:\\t{:d}\\tcost:\\t{:12f}\\taccuracy:\\t{:.4f}\\tgradient norm:\\t{:.4e}'.format(i, cost, acc, np.linalg.norm(g)))\n",
    "            \n",
    "        g = gradientTanh(states, labels, V)\n",
    "        \n",
    "        if i > maxIter: \n",
    "            print('Warning: Reached max iterations.')\n",
    "            break\n",
    "            \n",
    "    \n",
    "    cost = costTanh(states, labels, V)\n",
    "    acc = accuracyV(states, labels, V)\n",
    "    return V, cost, acc"
   ]
  }
 ],
 "metadata": {
  "kernelspec": {
   "display_name": "Python 3 (ipykernel)",
   "language": "python",
   "name": "python3"
  },
  "language_info": {
   "codemirror_mode": {
    "name": "ipython",
    "version": 3
   },
   "file_extension": ".py",
   "mimetype": "text/x-python",
   "name": "python",
   "nbconvert_exporter": "python",
   "pygments_lexer": "ipython3",
   "version": "3.8.10"
  }
 },
 "nbformat": 4,
 "nbformat_minor": 5
}
