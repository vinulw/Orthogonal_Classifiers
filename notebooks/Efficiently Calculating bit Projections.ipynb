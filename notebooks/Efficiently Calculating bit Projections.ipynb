{
 "cells": [
  {
   "cell_type": "code",
   "execution_count": 112,
   "id": "52cfc281",
   "metadata": {},
   "outputs": [],
   "source": [
    "import numpy as np\n",
    "from functools import reduce\n",
    "import matplotlib.pyplot as plt"
   ]
  },
  {
   "cell_type": "code",
   "execution_count": 2,
   "id": "45fa84b8",
   "metadata": {},
   "outputs": [],
   "source": [
    "zero = np.array([1, 0])\n",
    "one = np.array([0, 1])"
   ]
  },
  {
   "cell_type": "code",
   "execution_count": 3,
   "id": "59765045",
   "metadata": {},
   "outputs": [],
   "source": [
    "zero2 = np.kron(zero, zero)"
   ]
  },
  {
   "cell_type": "code",
   "execution_count": 4,
   "id": "cb7929d0",
   "metadata": {},
   "outputs": [
    {
     "data": {
      "text/plain": [
       "array([1, 0, 0, 0])"
      ]
     },
     "execution_count": 4,
     "metadata": {},
     "output_type": "execute_result"
    }
   ],
   "source": [
    "zero2"
   ]
  },
  {
   "cell_type": "code",
   "execution_count": 5,
   "id": "8425f14c",
   "metadata": {},
   "outputs": [
    {
     "data": {
      "text/plain": [
       "array([[1, 0],\n",
       "       [0, 0]])"
      ]
     },
     "execution_count": 5,
     "metadata": {},
     "output_type": "execute_result"
    }
   ],
   "source": [
    "np.outer(zero, zero)"
   ]
  },
  {
   "cell_type": "code",
   "execution_count": 6,
   "id": "60b7f8bf",
   "metadata": {},
   "outputs": [],
   "source": [
    "def zeron(n):\n",
    "    '''\n",
    "    Generate |00000...> state\n",
    "    '''\n",
    "    zero = np.array([1, 0])\n",
    "    return reduce(np.kron, [zero]*n)"
   ]
  },
  {
   "cell_type": "code",
   "execution_count": 7,
   "id": "9422f32d",
   "metadata": {},
   "outputs": [
    {
     "data": {
      "text/plain": [
       "array([[1, 0, 0, 0],\n",
       "       [0, 0, 0, 0],\n",
       "       [0, 0, 0, 0],\n",
       "       [0, 0, 0, 0]])"
      ]
     },
     "execution_count": 7,
     "metadata": {},
     "output_type": "execute_result"
    }
   ],
   "source": [
    "np.outer(zeron(2), zeron(2))"
   ]
  },
  {
   "cell_type": "code",
   "execution_count": 8,
   "id": "0b3d920c",
   "metadata": {},
   "outputs": [],
   "source": [
    "def bitState(bString):\n",
    "    '''\n",
    "    Generate bit string state\n",
    "    \n",
    "    Args\n",
    "    ----\n",
    "    bString : String of 0s and 1s describing state\n",
    "    '''\n",
    "    stateDict = {\n",
    "        '0' : np.array([1, 0]),\n",
    "        '1' : np.array([0, 1])\n",
    "    }\n",
    "\n",
    "    bArr = [stateDict[b] for b in bString]\n",
    "    return reduce(np.kron, bArr)\n",
    "\n",
    "def bitProjector(bString):\n",
    "    '''\n",
    "    Generate projector for given bitString state\n",
    "    '''\n",
    "    state = bitState(bString)\n",
    "    return np.outer(state, state)"
   ]
  },
  {
   "cell_type": "code",
   "execution_count": 9,
   "id": "0bcf21cd",
   "metadata": {},
   "outputs": [
    {
     "data": {
      "text/plain": [
       "array([0, 0, 1, 0])"
      ]
     },
     "execution_count": 9,
     "metadata": {},
     "output_type": "execute_result"
    }
   ],
   "source": [
    "bitState('10')"
   ]
  },
  {
   "cell_type": "code",
   "execution_count": 10,
   "id": "e05ef9bf",
   "metadata": {},
   "outputs": [
    {
     "data": {
      "text/plain": [
       "array([0, 1, 0, 0])"
      ]
     },
     "execution_count": 10,
     "metadata": {},
     "output_type": "execute_result"
    }
   ],
   "source": [
    "np.kron(zero, one)"
   ]
  },
  {
   "cell_type": "code",
   "execution_count": 11,
   "id": "a303ca6c",
   "metadata": {},
   "outputs": [
    {
     "data": {
      "text/plain": [
       "array([[0, 0, 0, 0],\n",
       "       [0, 0, 0, 0],\n",
       "       [0, 0, 1, 0],\n",
       "       [0, 0, 0, 0]])"
      ]
     },
     "execution_count": 11,
     "metadata": {},
     "output_type": "execute_result"
    }
   ],
   "source": [
    "bitProjector('10')"
   ]
  },
  {
   "cell_type": "markdown",
   "id": "8b6dce48",
   "metadata": {},
   "source": [
    "Generate random 4 qubit state. Trace out the first two qubits and project on the last two. "
   ]
  },
  {
   "cell_type": "code",
   "execution_count": 12,
   "id": "c07ce475",
   "metadata": {},
   "outputs": [],
   "source": [
    "nqubits = 4\n",
    "dim = 2**4\n",
    "phi = np.random.rand(dim) + 1j*np.random.rand(dim) # Generate a random state\n",
    "norm = np.linalg.norm(phi)\n",
    "phi = phi / norm # normalise state"
   ]
  },
  {
   "cell_type": "code",
   "execution_count": 13,
   "id": "4a079193",
   "metadata": {},
   "outputs": [
    {
     "data": {
      "text/plain": [
       "(1+0j)"
      ]
     },
     "execution_count": 13,
     "metadata": {},
     "output_type": "execute_result"
    }
   ],
   "source": [
    "phi @ np.conj(phi)"
   ]
  },
  {
   "cell_type": "code",
   "execution_count": 14,
   "id": "4e5b6554",
   "metadata": {},
   "outputs": [],
   "source": [
    "import qiskit\n",
    "import qiskit.quantum_info as qi"
   ]
  },
  {
   "cell_type": "code",
   "execution_count": 15,
   "id": "905ba443",
   "metadata": {},
   "outputs": [],
   "source": [
    "state = qi.Statevector(bitState('10'))"
   ]
  },
  {
   "cell_type": "code",
   "execution_count": 16,
   "id": "e1c06f2f",
   "metadata": {},
   "outputs": [
    {
     "data": {
      "text/latex": [
       "$$ |10\\rangle$$"
      ],
      "text/plain": [
       "<IPython.core.display.Latex object>"
      ]
     },
     "execution_count": 16,
     "metadata": {},
     "output_type": "execute_result"
    }
   ],
   "source": [
    "state.draw(output='latex')"
   ]
  },
  {
   "cell_type": "code",
   "execution_count": 17,
   "id": "ad4c9af8",
   "metadata": {},
   "outputs": [],
   "source": [
    "dMatrix = qi.DensityMatrix(state)"
   ]
  },
  {
   "cell_type": "code",
   "execution_count": 18,
   "id": "84fde6ba",
   "metadata": {},
   "outputs": [
    {
     "name": "stdout",
     "output_type": "stream",
     "text": [
      "DensityMatrix([[0.+0.j, 0.+0.j, 0.+0.j, 0.+0.j],\n",
      "               [0.+0.j, 0.+0.j, 0.+0.j, 0.+0.j],\n",
      "               [0.+0.j, 0.+0.j, 1.+0.j, 0.+0.j],\n",
      "               [0.+0.j, 0.+0.j, 0.+0.j, 0.+0.j]],\n",
      "              dims=(2, 2))\n"
     ]
    }
   ],
   "source": [
    "dMatrix"
   ]
  },
  {
   "cell_type": "code",
   "execution_count": 19,
   "id": "667e0d74",
   "metadata": {},
   "outputs": [
    {
     "name": "stdout",
     "output_type": "stream",
     "text": [
      "DensityMatrix([[0.+0.j, 0.+0.j],\n",
      "               [0.+0.j, 1.+0.j]],\n",
      "              dims=(2,))\n"
     ]
    }
   ],
   "source": [
    "qi.partial_trace(dMatrix, [0])"
   ]
  },
  {
   "cell_type": "code",
   "execution_count": 20,
   "id": "4bb5376c",
   "metadata": {},
   "outputs": [
    {
     "name": "stdout",
     "output_type": "stream",
     "text": [
      "DensityMatrix([[0.+0.j, 0.+0.j],\n",
      "               [0.+0.j, 1.+0.j]],\n",
      "              dims=(2,))\n"
     ]
    }
   ],
   "source": [
    "qi.DensityMatrix(bitState('1'))"
   ]
  },
  {
   "cell_type": "code",
   "execution_count": 21,
   "id": "eb2ea36d",
   "metadata": {},
   "outputs": [],
   "source": [
    "def partialTrace(state, tracedInds):\n",
    "    \n",
    "    nqubits = int(np.log2(state.shape[0]))\n",
    "    state = state.reshape([2]*nqubits)\n",
    "    \n",
    "    traced = np.tensordot(state, state.conj(), [tracedInds, tracedInds])\n",
    "\n",
    "    nRemaining = len(traced.shape) // 2\n",
    "    return traced.reshape([2**nRemaining]*2)"
   ]
  },
  {
   "cell_type": "code",
   "execution_count": 22,
   "id": "58fd6c1d",
   "metadata": {},
   "outputs": [
    {
     "data": {
      "text/plain": [
       "array([[1, 0],\n",
       "       [0, 0]])"
      ]
     },
     "execution_count": 22,
     "metadata": {},
     "output_type": "execute_result"
    }
   ],
   "source": [
    "partialTrace(bitState('10'), [0])"
   ]
  },
  {
   "cell_type": "markdown",
   "id": "c8286abd",
   "metadata": {},
   "source": [
    "Verifying the behaviour of the projector"
   ]
  },
  {
   "cell_type": "code",
   "execution_count": 23,
   "id": "50dc1310",
   "metadata": {},
   "outputs": [],
   "source": [
    "state = np.random.randn(4) + 1j*np.random.rand(4)\n",
    "state = state / np.linalg.norm(state)"
   ]
  },
  {
   "cell_type": "code",
   "execution_count": 24,
   "id": "01ea1e7f",
   "metadata": {},
   "outputs": [],
   "source": [
    "phi = np.outer(state, state)"
   ]
  },
  {
   "cell_type": "code",
   "execution_count": 25,
   "id": "4075a0f8",
   "metadata": {},
   "outputs": [
    {
     "data": {
      "text/plain": [
       "array([[-0.07045092-0.05464367j, -0.04168865-0.09270104j,\n",
       "        -0.15384187+0.1110822j , -0.06999297-0.17312526j],\n",
       "       [-0.04168865-0.09270104j,  0.00762703-0.11562562j,\n",
       "        -0.21430166+0.02952119j,  0.02215998-0.21173155j],\n",
       "       [-0.15384187+0.1110822j , -0.21430166+0.02952119j,\n",
       "         0.13454693+0.3807764j , -0.39550558+0.03907594j],\n",
       "       [-0.06999297-0.17312526j,  0.02215998-0.21173155j,\n",
       "        -0.39550558+0.03907594j,  0.05562087-0.3871409j ]])"
      ]
     },
     "execution_count": 25,
     "metadata": {},
     "output_type": "execute_result"
    }
   ],
   "source": [
    "phi"
   ]
  },
  {
   "cell_type": "code",
   "execution_count": 26,
   "id": "e492034c",
   "metadata": {},
   "outputs": [],
   "source": [
    "proj = bitProjector('00')"
   ]
  },
  {
   "cell_type": "code",
   "execution_count": 27,
   "id": "f3a5fdfd",
   "metadata": {},
   "outputs": [
    {
     "data": {
      "text/plain": [
       "array([[1, 0, 0, 0],\n",
       "       [0, 0, 0, 0],\n",
       "       [0, 0, 0, 0],\n",
       "       [0, 0, 0, 0]])"
      ]
     },
     "execution_count": 27,
     "metadata": {},
     "output_type": "execute_result"
    }
   ],
   "source": [
    "proj"
   ]
  },
  {
   "cell_type": "code",
   "execution_count": 28,
   "id": "5ea819e5",
   "metadata": {},
   "outputs": [
    {
     "data": {
      "text/plain": [
       "(-0.07045091979125363-0.054643670392465586j)"
      ]
     },
     "execution_count": 28,
     "metadata": {},
     "output_type": "execute_result"
    }
   ],
   "source": [
    "np.trace(proj @ phi)"
   ]
  },
  {
   "cell_type": "code",
   "execution_count": 29,
   "id": "575fbab6",
   "metadata": {},
   "outputs": [
    {
     "data": {
      "text/plain": [
       "array([[-0.07045092-0.05464367j, -0.04168865-0.09270104j,\n",
       "        -0.15384187+0.1110822j , -0.06999297-0.17312526j],\n",
       "       [ 0.        +0.j        ,  0.        +0.j        ,\n",
       "         0.        +0.j        ,  0.        +0.j        ],\n",
       "       [ 0.        +0.j        ,  0.        +0.j        ,\n",
       "         0.        +0.j        ,  0.        +0.j        ],\n",
       "       [ 0.        +0.j        ,  0.        +0.j        ,\n",
       "         0.        +0.j        ,  0.        +0.j        ]])"
      ]
     },
     "execution_count": 29,
     "metadata": {},
     "output_type": "execute_result"
    }
   ],
   "source": [
    "proj @ phi"
   ]
  },
  {
   "cell_type": "code",
   "execution_count": 30,
   "id": "0911077b",
   "metadata": {},
   "outputs": [
    {
     "data": {
      "text/plain": [
       "'00100'"
      ]
     },
     "execution_count": 30,
     "metadata": {},
     "output_type": "execute_result"
    }
   ],
   "source": [
    "bin(4)[2:].zfill(5)"
   ]
  },
  {
   "cell_type": "code",
   "execution_count": 31,
   "id": "ab670f3a",
   "metadata": {},
   "outputs": [
    {
     "name": "stdout",
     "output_type": "stream",
     "text": [
      "0000\n",
      "[[0 0]]\n",
      "0001\n",
      "[[1 1]]\n",
      "0010\n",
      "[[2 2]]\n",
      "0011\n",
      "[[3 3]]\n",
      "0100\n",
      "[[4 4]]\n",
      "0101\n",
      "[[5 5]]\n",
      "0110\n",
      "[[6 6]]\n",
      "0111\n",
      "[[7 7]]\n",
      "1000\n",
      "[[8 8]]\n",
      "1001\n",
      "[[9 9]]\n"
     ]
    }
   ],
   "source": [
    "bstrings = [bin(i)[2:].zfill(4) for i in range(10)]\n",
    "\n",
    "for b in bstrings:\n",
    "    print(b)\n",
    "    print(np.argwhere(bitProjector(b)))"
   ]
  },
  {
   "cell_type": "markdown",
   "id": "6386c797",
   "metadata": {},
   "source": [
    "Verify efficient calculation of projection"
   ]
  },
  {
   "cell_type": "code",
   "execution_count": 32,
   "id": "762c6b3d",
   "metadata": {},
   "outputs": [],
   "source": [
    "nQb = 4\n",
    "phi = np.random.randn(2**nQb) + 1j*np.random.randn(2**nQb) \n",
    "phi = phi / np.linalg.norm(phi)\n",
    "\n",
    "rho = np.outer(phi.conj(), phi)"
   ]
  },
  {
   "cell_type": "code",
   "execution_count": 33,
   "id": "8e6aa900",
   "metadata": {},
   "outputs": [],
   "source": [
    "def projectDensity(dMatrix, bString):\n",
    "    #dim = dMatrix.shape[0]\n",
    "    #assert 2**len(bString) == dim\n",
    "    i = int(bString, 2)\n",
    "    return dMatrix[i, i]"
   ]
  },
  {
   "cell_type": "code",
   "execution_count": 34,
   "id": "a54463e0",
   "metadata": {},
   "outputs": [
    {
     "data": {
      "text/plain": [
       "(16, 16)"
      ]
     },
     "execution_count": 34,
     "metadata": {},
     "output_type": "execute_result"
    }
   ],
   "source": [
    "rho.shape"
   ]
  },
  {
   "cell_type": "code",
   "execution_count": 35,
   "id": "86e88860",
   "metadata": {},
   "outputs": [
    {
     "name": "stdout",
     "output_type": "stream",
     "text": [
      "0000\n",
      "(16, 16)\n",
      "True\n",
      "\n",
      "0001\n",
      "(16, 16)\n",
      "True\n",
      "\n",
      "0101\n",
      "(16, 16)\n",
      "True\n",
      "\n",
      "1000\n",
      "(16, 16)\n",
      "True\n",
      "\n"
     ]
    }
   ],
   "source": [
    "bStrings = ['0000', '0001', '0101', '1000']\n",
    "for b in bStrings:\n",
    "    print(b)\n",
    "    projector = bitProjector(b)\n",
    "    print(projector.shape)\n",
    "    projDirect = np.trace(bitProjector(b) @ rho)\n",
    "    projLookup = projectDensity(rho, b)\n",
    "    print(np.allclose(projDirect, projLookup))\n",
    "    print()"
   ]
  },
  {
   "cell_type": "code",
   "execution_count": 36,
   "id": "bc3d8fd8",
   "metadata": {},
   "outputs": [],
   "source": [
    "bStrings = ['0000', '0001', '0101', '1000']\n",
    "projs = np.zeros(len(bStrings))"
   ]
  },
  {
   "cell_type": "code",
   "execution_count": 37,
   "id": "3999ddc7",
   "metadata": {},
   "outputs": [
    {
     "name": "stdout",
     "output_type": "stream",
     "text": [
      "658 µs ± 52.7 µs per loop (mean ± std. dev. of 7 runs, 1,000 loops each)\n"
     ]
    }
   ],
   "source": [
    "%%timeit\n",
    "for i, b in enumerate(bStrings):\n",
    "    projector = bitProjector(b)\n",
    "    projDirect = np.real(np.trace(bitProjector(b) @ rho))\n",
    "    projs[i] = projDirect"
   ]
  },
  {
   "cell_type": "code",
   "execution_count": 38,
   "id": "5823501d",
   "metadata": {},
   "outputs": [],
   "source": [
    "bStrings = ['0000', '0001', '0101', '1000']\n",
    "projs = np.zeros(len(bStrings))"
   ]
  },
  {
   "cell_type": "code",
   "execution_count": 39,
   "id": "a0fc603c",
   "metadata": {},
   "outputs": [
    {
     "name": "stdout",
     "output_type": "stream",
     "text": [
      "4.32 µs ± 113 ns per loop (mean ± std. dev. of 7 runs, 100,000 loops each)\n"
     ]
    }
   ],
   "source": [
    "%%timeit\n",
    "for i, b in enumerate(bStrings):\n",
    "    projLookup = projectDensity(rho, b)\n",
    "    projs[i] = np.real(projLookup)"
   ]
  },
  {
   "cell_type": "code",
   "execution_count": 40,
   "id": "a0c39b10",
   "metadata": {},
   "outputs": [],
   "source": [
    "bStrings = ['0000', '0001', '0101', '1000']\n",
    "projs = np.zeros(len(bStrings))"
   ]
  },
  {
   "cell_type": "code",
   "execution_count": 41,
   "id": "5239b0b0",
   "metadata": {},
   "outputs": [
    {
     "name": "stdout",
     "output_type": "stream",
     "text": [
      "4.39 µs ± 72.4 ns per loop (mean ± std. dev. of 7 runs, 100,000 loops each)\n"
     ]
    }
   ],
   "source": [
    "%%timeit\n",
    "for i, b in enumerate(bStrings):\n",
    "    projLookup = projectDensity(rho, b)\n",
    "    projs[i] = np.real(projLookup)"
   ]
  },
  {
   "cell_type": "markdown",
   "id": "0742e75c",
   "metadata": {},
   "source": [
    "Now finding an efficent way to calculate $dOdV$"
   ]
  },
  {
   "cell_type": "code",
   "execution_count": 42,
   "id": "9881e4ba",
   "metadata": {},
   "outputs": [],
   "source": [
    "nQb = 4\n",
    "state = np.arange(2**nQb)"
   ]
  },
  {
   "cell_type": "code",
   "execution_count": 43,
   "id": "e151fc70",
   "metadata": {},
   "outputs": [
    {
     "data": {
      "text/plain": [
       "array([ 0,  1,  2,  3,  4,  5,  6,  7,  8,  9, 10, 11, 12, 13, 14, 15])"
      ]
     },
     "execution_count": 43,
     "metadata": {},
     "output_type": "execute_result"
    }
   ],
   "source": [
    "state"
   ]
  },
  {
   "cell_type": "code",
   "execution_count": 44,
   "id": "3c10255d",
   "metadata": {},
   "outputs": [
    {
     "name": "stdout",
     "output_type": "stream",
     "text": [
      "0000\n",
      "0\n",
      "[0 0 0 0 0 0 0 0 0 0 0 0 0 0 0 0]\n",
      "[]\n",
      "0001\n",
      "1\n",
      "[0 1 0 0 0 0 0 0 0 0 0 0 0 0 0 0]\n",
      "[[1]]\n",
      "0101\n",
      "5\n",
      "[0 0 0 0 0 5 0 0 0 0 0 0 0 0 0 0]\n",
      "[[5]]\n",
      "1000\n",
      "8\n",
      "[0 0 0 0 0 0 0 0 8 0 0 0 0 0 0 0]\n",
      "[[8]]\n"
     ]
    }
   ],
   "source": [
    "bStrings = ['0000', '0001', '0101', '1000']\n",
    "\n",
    "for b in bStrings:\n",
    "    print(b)\n",
    "    print(int(b, 2))\n",
    "    \n",
    "    proj = bitProjector(b) @ state\n",
    "    print(proj)\n",
    "    print(np.argwhere(proj))"
   ]
  },
  {
   "cell_type": "code",
   "execution_count": 45,
   "id": "07700e85",
   "metadata": {},
   "outputs": [],
   "source": [
    "U = np.arange(2**(nQb*2)).reshape(2**nQb, -1)"
   ]
  },
  {
   "cell_type": "code",
   "execution_count": 46,
   "id": "1cf07e40",
   "metadata": {},
   "outputs": [
    {
     "data": {
      "text/plain": [
       "array([[  0,   1,   2,   3,   4,   5,   6,   7,   8,   9,  10,  11,  12,\n",
       "         13,  14,  15],\n",
       "       [ 16,  17,  18,  19,  20,  21,  22,  23,  24,  25,  26,  27,  28,\n",
       "         29,  30,  31],\n",
       "       [ 32,  33,  34,  35,  36,  37,  38,  39,  40,  41,  42,  43,  44,\n",
       "         45,  46,  47],\n",
       "       [ 48,  49,  50,  51,  52,  53,  54,  55,  56,  57,  58,  59,  60,\n",
       "         61,  62,  63],\n",
       "       [ 64,  65,  66,  67,  68,  69,  70,  71,  72,  73,  74,  75,  76,\n",
       "         77,  78,  79],\n",
       "       [ 80,  81,  82,  83,  84,  85,  86,  87,  88,  89,  90,  91,  92,\n",
       "         93,  94,  95],\n",
       "       [ 96,  97,  98,  99, 100, 101, 102, 103, 104, 105, 106, 107, 108,\n",
       "        109, 110, 111],\n",
       "       [112, 113, 114, 115, 116, 117, 118, 119, 120, 121, 122, 123, 124,\n",
       "        125, 126, 127],\n",
       "       [128, 129, 130, 131, 132, 133, 134, 135, 136, 137, 138, 139, 140,\n",
       "        141, 142, 143],\n",
       "       [144, 145, 146, 147, 148, 149, 150, 151, 152, 153, 154, 155, 156,\n",
       "        157, 158, 159],\n",
       "       [160, 161, 162, 163, 164, 165, 166, 167, 168, 169, 170, 171, 172,\n",
       "        173, 174, 175],\n",
       "       [176, 177, 178, 179, 180, 181, 182, 183, 184, 185, 186, 187, 188,\n",
       "        189, 190, 191],\n",
       "       [192, 193, 194, 195, 196, 197, 198, 199, 200, 201, 202, 203, 204,\n",
       "        205, 206, 207],\n",
       "       [208, 209, 210, 211, 212, 213, 214, 215, 216, 217, 218, 219, 220,\n",
       "        221, 222, 223],\n",
       "       [224, 225, 226, 227, 228, 229, 230, 231, 232, 233, 234, 235, 236,\n",
       "        237, 238, 239],\n",
       "       [240, 241, 242, 243, 244, 245, 246, 247, 248, 249, 250, 251, 252,\n",
       "        253, 254, 255]])"
      ]
     },
     "execution_count": 46,
     "metadata": {},
     "output_type": "execute_result"
    }
   ],
   "source": [
    "U"
   ]
  },
  {
   "cell_type": "code",
   "execution_count": 47,
   "id": "c69730ff",
   "metadata": {},
   "outputs": [
    {
     "data": {
      "text/plain": [
       "array([[ 0,  1,  2,  3,  4,  5,  6,  7,  8,  9, 10, 11, 12, 13, 14, 15],\n",
       "       [ 0,  0,  0,  0,  0,  0,  0,  0,  0,  0,  0,  0,  0,  0,  0,  0],\n",
       "       [ 0,  0,  0,  0,  0,  0,  0,  0,  0,  0,  0,  0,  0,  0,  0,  0],\n",
       "       [ 0,  0,  0,  0,  0,  0,  0,  0,  0,  0,  0,  0,  0,  0,  0,  0],\n",
       "       [ 0,  0,  0,  0,  0,  0,  0,  0,  0,  0,  0,  0,  0,  0,  0,  0],\n",
       "       [ 0,  0,  0,  0,  0,  0,  0,  0,  0,  0,  0,  0,  0,  0,  0,  0],\n",
       "       [ 0,  0,  0,  0,  0,  0,  0,  0,  0,  0,  0,  0,  0,  0,  0,  0],\n",
       "       [ 0,  0,  0,  0,  0,  0,  0,  0,  0,  0,  0,  0,  0,  0,  0,  0],\n",
       "       [ 0,  0,  0,  0,  0,  0,  0,  0,  0,  0,  0,  0,  0,  0,  0,  0],\n",
       "       [ 0,  0,  0,  0,  0,  0,  0,  0,  0,  0,  0,  0,  0,  0,  0,  0],\n",
       "       [ 0,  0,  0,  0,  0,  0,  0,  0,  0,  0,  0,  0,  0,  0,  0,  0],\n",
       "       [ 0,  0,  0,  0,  0,  0,  0,  0,  0,  0,  0,  0,  0,  0,  0,  0],\n",
       "       [ 0,  0,  0,  0,  0,  0,  0,  0,  0,  0,  0,  0,  0,  0,  0,  0],\n",
       "       [ 0,  0,  0,  0,  0,  0,  0,  0,  0,  0,  0,  0,  0,  0,  0,  0],\n",
       "       [ 0,  0,  0,  0,  0,  0,  0,  0,  0,  0,  0,  0,  0,  0,  0,  0],\n",
       "       [ 0,  0,  0,  0,  0,  0,  0,  0,  0,  0,  0,  0,  0,  0,  0,  0]])"
      ]
     },
     "execution_count": 47,
     "metadata": {},
     "output_type": "execute_result"
    }
   ],
   "source": [
    "bitProjector('0000') @ U"
   ]
  },
  {
   "cell_type": "code",
   "execution_count": 48,
   "id": "1fc63eca",
   "metadata": {},
   "outputs": [
    {
     "data": {
      "text/plain": [
       "array([1240,    0,    0,    0,    0,    0,    0,    0,    0,    0,    0,\n",
       "          0,    0,    0,    0,    0])"
      ]
     },
     "execution_count": 48,
     "metadata": {},
     "output_type": "execute_result"
    }
   ],
   "source": [
    "bitProjector('0000') @ U @ state"
   ]
  },
  {
   "cell_type": "code",
   "execution_count": 49,
   "id": "0b37882b",
   "metadata": {},
   "outputs": [],
   "source": [
    "def PV_state(bitString, V, phi):\n",
    "    i = int(bitString, 2)\n",
    "    Vrow = V[i, :]\n",
    "    out = np.zeros(phi.shape)\n",
    "    out[i] = np.dot(Vrow, phi)\n",
    "    return out"
   ]
  },
  {
   "cell_type": "code",
   "execution_count": 50,
   "id": "eff2629f",
   "metadata": {},
   "outputs": [
    {
     "data": {
      "text/plain": [
       "array([1240.,    0.,    0.,    0.,    0.,    0.,    0.,    0.,    0.,\n",
       "          0.,    0.,    0.,    0.,    0.,    0.,    0.])"
      ]
     },
     "execution_count": 50,
     "metadata": {},
     "output_type": "execute_result"
    }
   ],
   "source": [
    "PV_state('0000', U, state)"
   ]
  },
  {
   "cell_type": "code",
   "execution_count": 51,
   "id": "7cd2a5d9",
   "metadata": {},
   "outputs": [
    {
     "data": {
      "text/plain": [
       "array([ 0,  1,  2,  3,  4,  5,  6,  7,  8,  9, 10, 11, 12, 13, 14, 15])"
      ]
     },
     "execution_count": 51,
     "metadata": {},
     "output_type": "execute_result"
    }
   ],
   "source": [
    "state"
   ]
  },
  {
   "cell_type": "code",
   "execution_count": 52,
   "id": "268e679c",
   "metadata": {},
   "outputs": [],
   "source": [
    "state_bit = np.zeros(state.shape)\n",
    "state_bit[0] = 2"
   ]
  },
  {
   "cell_type": "code",
   "execution_count": 53,
   "id": "59aedf11",
   "metadata": {},
   "outputs": [
    {
     "data": {
      "text/plain": [
       "array([2., 0., 0., 0., 0., 0., 0., 0., 0., 0., 0., 0., 0., 0., 0., 0.])"
      ]
     },
     "execution_count": 53,
     "metadata": {},
     "output_type": "execute_result"
    }
   ],
   "source": [
    "state_bit"
   ]
  },
  {
   "cell_type": "code",
   "execution_count": 54,
   "id": "775ce050",
   "metadata": {},
   "outputs": [
    {
     "data": {
      "text/plain": [
       "array([[ 0.,  2.,  4.,  6.,  8., 10., 12., 14., 16., 18., 20., 22., 24.,\n",
       "        26., 28., 30.],\n",
       "       [ 0.,  0.,  0.,  0.,  0.,  0.,  0.,  0.,  0.,  0.,  0.,  0.,  0.,\n",
       "         0.,  0.,  0.],\n",
       "       [ 0.,  0.,  0.,  0.,  0.,  0.,  0.,  0.,  0.,  0.,  0.,  0.,  0.,\n",
       "         0.,  0.,  0.],\n",
       "       [ 0.,  0.,  0.,  0.,  0.,  0.,  0.,  0.,  0.,  0.,  0.,  0.,  0.,\n",
       "         0.,  0.,  0.],\n",
       "       [ 0.,  0.,  0.,  0.,  0.,  0.,  0.,  0.,  0.,  0.,  0.,  0.,  0.,\n",
       "         0.,  0.,  0.],\n",
       "       [ 0.,  0.,  0.,  0.,  0.,  0.,  0.,  0.,  0.,  0.,  0.,  0.,  0.,\n",
       "         0.,  0.,  0.],\n",
       "       [ 0.,  0.,  0.,  0.,  0.,  0.,  0.,  0.,  0.,  0.,  0.,  0.,  0.,\n",
       "         0.,  0.,  0.],\n",
       "       [ 0.,  0.,  0.,  0.,  0.,  0.,  0.,  0.,  0.,  0.,  0.,  0.,  0.,\n",
       "         0.,  0.,  0.],\n",
       "       [ 0.,  0.,  0.,  0.,  0.,  0.,  0.,  0.,  0.,  0.,  0.,  0.,  0.,\n",
       "         0.,  0.,  0.],\n",
       "       [ 0.,  0.,  0.,  0.,  0.,  0.,  0.,  0.,  0.,  0.,  0.,  0.,  0.,\n",
       "         0.,  0.,  0.],\n",
       "       [ 0.,  0.,  0.,  0.,  0.,  0.,  0.,  0.,  0.,  0.,  0.,  0.,  0.,\n",
       "         0.,  0.,  0.],\n",
       "       [ 0.,  0.,  0.,  0.,  0.,  0.,  0.,  0.,  0.,  0.,  0.,  0.,  0.,\n",
       "         0.,  0.,  0.],\n",
       "       [ 0.,  0.,  0.,  0.,  0.,  0.,  0.,  0.,  0.,  0.,  0.,  0.,  0.,\n",
       "         0.,  0.,  0.],\n",
       "       [ 0.,  0.,  0.,  0.,  0.,  0.,  0.,  0.,  0.,  0.,  0.,  0.,  0.,\n",
       "         0.,  0.,  0.],\n",
       "       [ 0.,  0.,  0.,  0.,  0.,  0.,  0.,  0.,  0.,  0.,  0.,  0.,  0.,\n",
       "         0.,  0.,  0.],\n",
       "       [ 0.,  0.,  0.,  0.,  0.,  0.,  0.,  0.,  0.,  0.,  0.,  0.,  0.,\n",
       "         0.,  0.,  0.]])"
      ]
     },
     "execution_count": 54,
     "metadata": {},
     "output_type": "execute_result"
    }
   ],
   "source": [
    "np.outer(state_bit, state)"
   ]
  },
  {
   "cell_type": "markdown",
   "id": "c393dd25",
   "metadata": {},
   "source": [
    "Putting this together with the outer produce we can efficiently calculate dOdV"
   ]
  },
  {
   "cell_type": "code",
   "execution_count": 55,
   "id": "d5f29a70",
   "metadata": {},
   "outputs": [],
   "source": [
    "def dOdV_efficient(bitString, V, state):\n",
    "    i = int(bitString, 2)\n",
    "    s = np.dot(V[i, :], state)\n",
    "    out = np.zeros((state.shape[0], state.shape[0]), dtype=complex)\n",
    "    out[i, :] = s*state.conj()\n",
    "    return out"
   ]
  },
  {
   "cell_type": "code",
   "execution_count": 56,
   "id": "3907f7df",
   "metadata": {},
   "outputs": [],
   "source": [
    "def dOdV_direct(bitString, V, state):\n",
    "    P = bitProjector(bitString)\n",
    "    PVstate = P @ V @ state\n",
    "    return np.outer(PVstate, state.conj())"
   ]
  },
  {
   "cell_type": "code",
   "execution_count": 57,
   "id": "136f85d4",
   "metadata": {},
   "outputs": [],
   "source": [
    "nQb = 4\n",
    "U = np.random.randn(2**nQb, 2**nQb) + 1j*np.random.randn(2**nQb, 2**nQb)\n",
    "state = np.random.randn(2**nQb) + 1j*np.random.randn(2**nQb)"
   ]
  },
  {
   "cell_type": "code",
   "execution_count": 58,
   "id": "62a72b92",
   "metadata": {},
   "outputs": [
    {
     "name": "stdout",
     "output_type": "stream",
     "text": [
      "0000\n",
      "True\n",
      "0101\n",
      "True\n",
      "0011\n",
      "True\n",
      "1000\n",
      "True\n",
      "1100\n",
      "True\n"
     ]
    }
   ],
   "source": [
    "bitStrings = ['0000', '0101', '0011', '1000', '1100']\n",
    "for b in bitStrings:\n",
    "    print(b)\n",
    "    direct = dOdV_direct(b, U, state)\n",
    "    efficient = dOdV_efficient(b, U, state)\n",
    "    print(np.allclose(direct, efficient))"
   ]
  },
  {
   "cell_type": "code",
   "execution_count": 59,
   "id": "0ee08937",
   "metadata": {},
   "outputs": [
    {
     "name": "stdout",
     "output_type": "stream",
     "text": [
      "481 µs ± 88.4 µs per loop (mean ± std. dev. of 7 runs, 1,000 loops each)\n"
     ]
    }
   ],
   "source": [
    "%%timeit\n",
    "for b in bitStrings:\n",
    "    direct = dOdV_direct(b, U, state)"
   ]
  },
  {
   "cell_type": "code",
   "execution_count": 60,
   "id": "b0cb0531",
   "metadata": {},
   "outputs": [
    {
     "name": "stdout",
     "output_type": "stream",
     "text": [
      "24.1 µs ± 1.07 µs per loop (mean ± std. dev. of 7 runs, 10,000 loops each)\n"
     ]
    }
   ],
   "source": [
    "%%timeit\n",
    "for b in bitStrings:\n",
    "    efficient = dOdV_efficient(b, U, state)"
   ]
  },
  {
   "cell_type": "markdown",
   "id": "c2ffe917",
   "metadata": {},
   "source": [
    "$$\\require{physics}$$\n",
    "\n",
    "Checking if we can efficiently calculate $<\\phi | V^\\dagger P_i | V | \\phi>$ using $s = V_i \\cdot |\\phi>$ and $s^*s$"
   ]
  },
  {
   "cell_type": "code",
   "execution_count": 61,
   "id": "da545578",
   "metadata": {},
   "outputs": [],
   "source": [
    "nQb = 4\n",
    "V = np.random.randn(2**nQb, 2**nQb) + 1j*np.random.randn(2**nQb, 2**nQb)\n",
    "state = np.random.randn(2**nQb) + 1j*np.random.randn(2**nQb)"
   ]
  },
  {
   "cell_type": "code",
   "execution_count": 62,
   "id": "e100fdba",
   "metadata": {},
   "outputs": [],
   "source": [
    "def overlapEfficient(bitString, V, state):\n",
    "    i = int(bitString, 2)\n",
    "    s = np.dot(V[i, :], state)\n",
    "    return s.conj()*s"
   ]
  },
  {
   "cell_type": "code",
   "execution_count": 63,
   "id": "56f3f26b",
   "metadata": {},
   "outputs": [],
   "source": [
    "def overlapDirect(bitString, V, state):\n",
    "    proj = bitProjector(b)\n",
    "    return state.conj() @ V.conj().T @ proj @ V @ state"
   ]
  },
  {
   "cell_type": "code",
   "execution_count": 64,
   "id": "0dd56d4e",
   "metadata": {},
   "outputs": [
    {
     "name": "stdout",
     "output_type": "stream",
     "text": [
      "0000\n",
      "True\n",
      "\n",
      "0010\n",
      "True\n",
      "\n",
      "0100\n",
      "True\n",
      "\n",
      "1011\n",
      "True\n",
      "\n"
     ]
    }
   ],
   "source": [
    "bitStrings = ['0000', '0010', '0100', '1011']\n",
    "for b in bitStrings:\n",
    "    oEff = overlapEfficient(b, V, state)\n",
    "    oDir = overlapDirect(b, V, state)\n",
    "    print(b)\n",
    "    print(np.allclose(oEff, oDir))\n",
    "    print()"
   ]
  },
  {
   "cell_type": "code",
   "execution_count": 65,
   "id": "ede1a615",
   "metadata": {},
   "outputs": [
    {
     "name": "stdout",
     "output_type": "stream",
     "text": [
      "387 µs ± 68.8 µs per loop (mean ± std. dev. of 7 runs, 1,000 loops each)\n"
     ]
    }
   ],
   "source": [
    "%%timeit\n",
    "for b in bitStrings:\n",
    "    oDir = overlapDirect(b, V, state)"
   ]
  },
  {
   "cell_type": "code",
   "execution_count": 66,
   "id": "bc31cece",
   "metadata": {},
   "outputs": [
    {
     "name": "stdout",
     "output_type": "stream",
     "text": [
      "9.27 µs ± 391 ns per loop (mean ± std. dev. of 7 runs, 100,000 loops each)\n"
     ]
    }
   ],
   "source": [
    "%%timeit\n",
    "for b in bitStrings:\n",
    "    oEff = overlapEfficient(b, V, state)"
   ]
  },
  {
   "cell_type": "markdown",
   "id": "df420a9c",
   "metadata": {},
   "source": [
    "### Figuring out the effects of trace projections"
   ]
  },
  {
   "cell_type": "code",
   "execution_count": 67,
   "id": "70ea216d",
   "metadata": {},
   "outputs": [],
   "source": [
    "nQb = 3\n",
    "dims = [2]*(nQb)\n",
    "\n",
    "state = np.arange(2**(nQb))"
   ]
  },
  {
   "cell_type": "code",
   "execution_count": 68,
   "id": "d120bd97",
   "metadata": {},
   "outputs": [],
   "source": [
    "state = state.reshape(*dims)"
   ]
  },
  {
   "cell_type": "code",
   "execution_count": 69,
   "id": "fdeaabf9",
   "metadata": {},
   "outputs": [
    {
     "data": {
      "text/plain": [
       "array([[[0, 1],\n",
       "        [2, 3]],\n",
       "\n",
       "       [[4, 5],\n",
       "        [6, 7]]])"
      ]
     },
     "execution_count": 69,
     "metadata": {},
     "output_type": "execute_result"
    }
   ],
   "source": [
    "state"
   ]
  },
  {
   "cell_type": "code",
   "execution_count": 70,
   "id": "391cc9f0",
   "metadata": {},
   "outputs": [
    {
     "data": {
      "text/plain": [
       "(2, 2, 2)"
      ]
     },
     "execution_count": 70,
     "metadata": {},
     "output_type": "execute_result"
    }
   ],
   "source": [
    "state.shape"
   ]
  },
  {
   "cell_type": "code",
   "execution_count": 71,
   "id": "8853c33b",
   "metadata": {},
   "outputs": [],
   "source": [
    "out = partialTrace(state.reshape(-1), [0, 1])"
   ]
  },
  {
   "cell_type": "code",
   "execution_count": 72,
   "id": "b005fae1",
   "metadata": {},
   "outputs": [
    {
     "data": {
      "text/plain": [
       "(8,)"
      ]
     },
     "execution_count": 72,
     "metadata": {},
     "output_type": "execute_result"
    }
   ],
   "source": [
    "state.reshape(-1).shape"
   ]
  },
  {
   "cell_type": "code",
   "execution_count": 73,
   "id": "61e3defb",
   "metadata": {},
   "outputs": [
    {
     "data": {
      "text/plain": [
       "(2, 2)"
      ]
     },
     "execution_count": 73,
     "metadata": {},
     "output_type": "execute_result"
    }
   ],
   "source": [
    "out.shape"
   ]
  },
  {
   "cell_type": "code",
   "execution_count": 74,
   "id": "593fe357",
   "metadata": {},
   "outputs": [
    {
     "data": {
      "text/plain": [
       "array([[56, 68],\n",
       "       [68, 84]])"
      ]
     },
     "execution_count": 74,
     "metadata": {},
     "output_type": "execute_result"
    }
   ],
   "source": [
    "out"
   ]
  },
  {
   "cell_type": "code",
   "execution_count": 75,
   "id": "0105e2cd",
   "metadata": {},
   "outputs": [
    {
     "data": {
      "text/plain": [
       "56"
      ]
     },
     "execution_count": 75,
     "metadata": {},
     "output_type": "execute_result"
    }
   ],
   "source": [
    "np.dot(state[:, :, 0].reshape(-1), state[:, :, 0].reshape(-1))"
   ]
  },
  {
   "cell_type": "code",
   "execution_count": 76,
   "id": "d0eb662c",
   "metadata": {},
   "outputs": [
    {
     "data": {
      "text/plain": [
       "68"
      ]
     },
     "execution_count": 76,
     "metadata": {},
     "output_type": "execute_result"
    }
   ],
   "source": [
    "np.dot(state[:, :, 0].reshape(-1), state[:, :, 1].reshape(-1))"
   ]
  },
  {
   "cell_type": "code",
   "execution_count": 77,
   "id": "a3d3652e",
   "metadata": {},
   "outputs": [
    {
     "data": {
      "text/plain": [
       "array([[22, 27],\n",
       "       [54, 67]])"
      ]
     },
     "execution_count": 77,
     "metadata": {},
     "output_type": "execute_result"
    }
   ],
   "source": [
    "np.dot(state[:, 1], state[:, 1])"
   ]
  },
  {
   "cell_type": "code",
   "execution_count": 78,
   "id": "529d5857",
   "metadata": {},
   "outputs": [
    {
     "data": {
      "text/plain": [
       "array([[22, 27],\n",
       "       [54, 67]])"
      ]
     },
     "execution_count": 78,
     "metadata": {},
     "output_type": "execute_result"
    }
   ],
   "source": [
    "np.dot(state[:, 1], state[:, 1])"
   ]
  },
  {
   "cell_type": "code",
   "execution_count": 79,
   "id": "442ced5d",
   "metadata": {},
   "outputs": [
    {
     "data": {
      "text/plain": [
       "True"
      ]
     },
     "execution_count": 79,
     "metadata": {},
     "output_type": "execute_result"
    }
   ],
   "source": [
    "np.allclose(state[:, :, 0], state.take(indices=0, axis=2))"
   ]
  },
  {
   "cell_type": "code",
   "execution_count": 80,
   "id": "5d42bd93",
   "metadata": {},
   "outputs": [
    {
     "data": {
      "text/plain": [
       "True"
      ]
     },
     "execution_count": 80,
     "metadata": {},
     "output_type": "execute_result"
    }
   ],
   "source": [
    "np.allclose(state[slice(None), slice(None), 0], state.take(indices=0, axis=2))"
   ]
  },
  {
   "cell_type": "code",
   "execution_count": 81,
   "id": "fb63cee2",
   "metadata": {},
   "outputs": [
    {
     "name": "stdout",
     "output_type": "stream",
     "text": [
      "314 ns ± 16.3 ns per loop (mean ± std. dev. of 7 runs, 1,000,000 loops each)\n"
     ]
    }
   ],
   "source": [
    "%%timeit\n",
    "state[slice(None), slice(None), 0]"
   ]
  },
  {
   "cell_type": "code",
   "execution_count": 82,
   "id": "55cefe8a",
   "metadata": {},
   "outputs": [
    {
     "name": "stdout",
     "output_type": "stream",
     "text": [
      "573 ns ± 16.3 ns per loop (mean ± std. dev. of 7 runs, 1,000,000 loops each)\n"
     ]
    }
   ],
   "source": [
    "%%timeit\n",
    "state.take(indices=0, axis=2)"
   ]
  },
  {
   "cell_type": "code",
   "execution_count": 83,
   "id": "70f05f99",
   "metadata": {},
   "outputs": [],
   "source": [
    "def tracedProjEfficient(state, ind, tracedDim):\n",
    "        state = state.reshape(tracedDim, -1)\n",
    "        s = state[:, ind].reshape(-1)\n",
    "        return np.dot(s,  s.conj())"
   ]
  },
  {
   "cell_type": "code",
   "execution_count": 84,
   "id": "41a27144",
   "metadata": {},
   "outputs": [],
   "source": [
    "def tracedProjEfficientv2(state, inds, tracedDim):\n",
    "        state = state.reshape(tracedDim, -1)\n",
    "        s = state[:, inds]\n",
    "        return np.einsum('ji, ji->i', s, s.conj())\n",
    "        return np.tensordot(s,  s.conj(), axes=[0, 0])"
   ]
  },
  {
   "cell_type": "code",
   "execution_count": 85,
   "id": "988c7f89",
   "metadata": {},
   "outputs": [
    {
     "ename": "IndexError",
     "evalue": "index 2 is out of bounds for axis 1 with size 2",
     "output_type": "error",
     "traceback": [
      "\u001b[0;31m---------------------------------------------------------------------------\u001b[0m",
      "\u001b[0;31mIndexError\u001b[0m                                Traceback (most recent call last)",
      "Input \u001b[0;32mIn [85]\u001b[0m, in \u001b[0;36m<cell line: 2>\u001b[0;34m()\u001b[0m\n\u001b[1;32m      1\u001b[0m nTrace \u001b[38;5;241m=\u001b[39m \u001b[38;5;241m2\u001b[39m\n\u001b[0;32m----> 2\u001b[0m out \u001b[38;5;241m=\u001b[39m \u001b[43mtracedProjEfficientv2\u001b[49m\u001b[43m(\u001b[49m\u001b[43mstate\u001b[49m\u001b[43m,\u001b[49m\u001b[43m \u001b[49m\u001b[43m[\u001b[49m\u001b[38;5;241;43m1\u001b[39;49m\u001b[43m,\u001b[49m\u001b[43m \u001b[49m\u001b[38;5;241;43m2\u001b[39;49m\u001b[43m]\u001b[49m\u001b[43m,\u001b[49m\u001b[43m \u001b[49m\u001b[38;5;241;43m2\u001b[39;49m\u001b[38;5;241;43m*\u001b[39;49m\u001b[38;5;241;43m*\u001b[39;49m\u001b[43mnTrace\u001b[49m\u001b[43m)\u001b[49m\n\u001b[1;32m      3\u001b[0m out\u001b[38;5;241m.\u001b[39mshape\n",
      "Input \u001b[0;32mIn [84]\u001b[0m, in \u001b[0;36mtracedProjEfficientv2\u001b[0;34m(state, inds, tracedDim)\u001b[0m\n\u001b[1;32m      1\u001b[0m \u001b[38;5;28;01mdef\u001b[39;00m \u001b[38;5;21mtracedProjEfficientv2\u001b[39m(state, inds, tracedDim):\n\u001b[1;32m      2\u001b[0m         state \u001b[38;5;241m=\u001b[39m state\u001b[38;5;241m.\u001b[39mreshape(tracedDim, \u001b[38;5;241m-\u001b[39m\u001b[38;5;241m1\u001b[39m)\n\u001b[0;32m----> 3\u001b[0m         s \u001b[38;5;241m=\u001b[39m \u001b[43mstate\u001b[49m\u001b[43m[\u001b[49m\u001b[43m:\u001b[49m\u001b[43m,\u001b[49m\u001b[43m \u001b[49m\u001b[43minds\u001b[49m\u001b[43m]\u001b[49m\n\u001b[1;32m      4\u001b[0m         \u001b[38;5;28;01mreturn\u001b[39;00m np\u001b[38;5;241m.\u001b[39meinsum(\u001b[38;5;124m'\u001b[39m\u001b[38;5;124mji, ji->i\u001b[39m\u001b[38;5;124m'\u001b[39m, s, s\u001b[38;5;241m.\u001b[39mconj())\n\u001b[1;32m      5\u001b[0m         \u001b[38;5;28;01mreturn\u001b[39;00m np\u001b[38;5;241m.\u001b[39mtensordot(s,  s\u001b[38;5;241m.\u001b[39mconj(), axes\u001b[38;5;241m=\u001b[39m[\u001b[38;5;241m0\u001b[39m, \u001b[38;5;241m0\u001b[39m])\n",
      "\u001b[0;31mIndexError\u001b[0m: index 2 is out of bounds for axis 1 with size 2"
     ]
    }
   ],
   "source": [
    "nTrace = 2\n",
    "out = tracedProjEfficientv2(state, [1, 2], 2**nTrace)\n",
    "out.shape"
   ]
  },
  {
   "cell_type": "code",
   "execution_count": 86,
   "id": "57f353e1",
   "metadata": {},
   "outputs": [
    {
     "data": {
      "text/plain": [
       "array([[56, 68],\n",
       "       [68, 84]])"
      ]
     },
     "execution_count": 86,
     "metadata": {},
     "output_type": "execute_result"
    }
   ],
   "source": [
    "out"
   ]
  },
  {
   "cell_type": "code",
   "execution_count": 87,
   "id": "ee423c3b",
   "metadata": {},
   "outputs": [
    {
     "data": {
      "text/plain": [
       "84"
      ]
     },
     "execution_count": 87,
     "metadata": {},
     "output_type": "execute_result"
    }
   ],
   "source": [
    "tracedProjEfficient(state, 1, 2**nTrace)"
   ]
  },
  {
   "cell_type": "code",
   "execution_count": 88,
   "id": "143e30cc",
   "metadata": {},
   "outputs": [
    {
     "ename": "IndexError",
     "evalue": "index 2 is out of bounds for axis 1 with size 2",
     "output_type": "error",
     "traceback": [
      "\u001b[0;31m---------------------------------------------------------------------------\u001b[0m",
      "\u001b[0;31mIndexError\u001b[0m                                Traceback (most recent call last)",
      "Input \u001b[0;32mIn [88]\u001b[0m, in \u001b[0;36m<cell line: 1>\u001b[0;34m()\u001b[0m\n\u001b[0;32m----> 1\u001b[0m \u001b[43mtracedProjEfficient\u001b[49m\u001b[43m(\u001b[49m\u001b[43mstate\u001b[49m\u001b[43m,\u001b[49m\u001b[43m \u001b[49m\u001b[38;5;241;43m2\u001b[39;49m\u001b[43m,\u001b[49m\u001b[43m \u001b[49m\u001b[38;5;241;43m2\u001b[39;49m\u001b[38;5;241;43m*\u001b[39;49m\u001b[38;5;241;43m*\u001b[39;49m\u001b[43mnTrace\u001b[49m\u001b[43m)\u001b[49m\n",
      "Input \u001b[0;32mIn [83]\u001b[0m, in \u001b[0;36mtracedProjEfficient\u001b[0;34m(state, ind, tracedDim)\u001b[0m\n\u001b[1;32m      1\u001b[0m \u001b[38;5;28;01mdef\u001b[39;00m \u001b[38;5;21mtracedProjEfficient\u001b[39m(state, ind, tracedDim):\n\u001b[1;32m      2\u001b[0m         state \u001b[38;5;241m=\u001b[39m state\u001b[38;5;241m.\u001b[39mreshape(tracedDim, \u001b[38;5;241m-\u001b[39m\u001b[38;5;241m1\u001b[39m)\n\u001b[0;32m----> 3\u001b[0m         s \u001b[38;5;241m=\u001b[39m \u001b[43mstate\u001b[49m\u001b[43m[\u001b[49m\u001b[43m:\u001b[49m\u001b[43m,\u001b[49m\u001b[43m \u001b[49m\u001b[43mind\u001b[49m\u001b[43m]\u001b[49m\u001b[38;5;241m.\u001b[39mreshape(\u001b[38;5;241m-\u001b[39m\u001b[38;5;241m1\u001b[39m)\n\u001b[1;32m      4\u001b[0m         \u001b[38;5;28;01mreturn\u001b[39;00m np\u001b[38;5;241m.\u001b[39mdot(s,  s\u001b[38;5;241m.\u001b[39mconj())\n",
      "\u001b[0;31mIndexError\u001b[0m: index 2 is out of bounds for axis 1 with size 2"
     ]
    }
   ],
   "source": [
    "tracedProjEfficient(state, 2, 2**nTrace)"
   ]
  },
  {
   "cell_type": "code",
   "execution_count": 89,
   "id": "148b8c7a",
   "metadata": {},
   "outputs": [],
   "source": [
    "nQb = 4\n",
    "partitions = [1, 2, 3]\n",
    "tracedInd = [[0], [0, 1], [0, 1, 2]]\n",
    "\n",
    "state = np.random.randn(2**nQb) + 1j*np.random.randn(2**nQb)"
   ]
  },
  {
   "cell_type": "code",
   "execution_count": 90,
   "id": "767b8763",
   "metadata": {},
   "outputs": [
    {
     "name": "stdout",
     "output_type": "stream",
     "text": [
      "1\n",
      "True\n",
      "True\n",
      "\n",
      "2\n",
      "True\n",
      "True\n",
      "\n",
      "3\n",
      "True\n",
      "True\n",
      "\n"
     ]
    }
   ],
   "source": [
    "for traced, parts in zip(tracedInd, partitions):\n",
    "    print(parts)\n",
    "    pTrace = partialTrace(state, traced)\n",
    "    pTrace = [pTrace[i, i] for i in range(pTrace.shape[0])]\n",
    "    \n",
    "    pTraceEfficient = [tracedProjEfficient(state, i, 2**parts) for i in range(2**(nQb - parts))]\n",
    "    print(np.allclose(pTrace, pTraceEfficient))\n",
    "    \n",
    "    pTraceEfficient2 = tracedProjEfficientv2(state, range(2**(nQb - parts)), 2**parts)\n",
    "    print(np.allclose(pTrace, pTraceEfficient2))\n",
    "    print()"
   ]
  },
  {
   "cell_type": "code",
   "execution_count": 91,
   "id": "c3f5adf6",
   "metadata": {},
   "outputs": [
    {
     "name": "stdout",
     "output_type": "stream",
     "text": [
      "52.8 µs ± 2.19 µs per loop (mean ± std. dev. of 7 runs, 10,000 loops each)\n"
     ]
    }
   ],
   "source": [
    "%%timeit\n",
    "for traced, parts in zip(tracedInd, partitions):\n",
    "    pTrace = partialTrace(state, traced)\n",
    "    # pTrace = [pTrace[i, i] for i in range(pTrace.shape[0])]"
   ]
  },
  {
   "cell_type": "code",
   "execution_count": 92,
   "id": "b3985fb1",
   "metadata": {},
   "outputs": [
    {
     "name": "stdout",
     "output_type": "stream",
     "text": [
      "36.2 µs ± 1.99 µs per loop (mean ± std. dev. of 7 runs, 10,000 loops each)\n"
     ]
    }
   ],
   "source": [
    "%%timeit\n",
    "for traced, parts in zip(tracedInd, partitions):\n",
    "    pTraceEfficient = [tracedProjEfficient(state, i, 2**parts) for i in range(2**(nQb - parts))]"
   ]
  },
  {
   "cell_type": "code",
   "execution_count": 93,
   "id": "a41f86a5",
   "metadata": {},
   "outputs": [
    {
     "name": "stdout",
     "output_type": "stream",
     "text": [
      "28.3 µs ± 935 ns per loop (mean ± std. dev. of 7 runs, 10,000 loops each)\n"
     ]
    }
   ],
   "source": [
    "%%timeit\n",
    "for traced, parts in zip(tracedInd, partitions):\n",
    "    pTraceEfficient2 = tracedProjEfficientv2(state, range(2**(nQb - parts)), 2**parts)"
   ]
  },
  {
   "cell_type": "markdown",
   "id": "cf8cb70f",
   "metadata": {},
   "source": [
    "### Calculating dOdV with Trace\n",
    "\n",
    "First we declare how to do this explicitly. We are trying to prepare the following:\n",
    "\n",
    "$dO/dV = (\\mathbb{1} \\otimes P_j) V |\\phi><\\phi|$"
   ]
  },
  {
   "cell_type": "code",
   "execution_count": 101,
   "id": "609b2aee",
   "metadata": {},
   "outputs": [],
   "source": [
    "from ncon import ncon"
   ]
  },
  {
   "cell_type": "code",
   "execution_count": 102,
   "id": "63a23852",
   "metadata": {},
   "outputs": [],
   "source": [
    "nQb = 4\n",
    "state = np.random.randn(2**nQb) + 1j*np.random.randn(2**nQb)\n",
    "state = state / np.linalg.norm(state)\n",
    "\n",
    "V = np.random.randn(2**nQb, 2**nQb) + 1j*np.random.randn(2**nQb, 2**nQb)"
   ]
  },
  {
   "cell_type": "code",
   "execution_count": 242,
   "id": "dc274d7f",
   "metadata": {},
   "outputs": [],
   "source": [
    "def explicit_dOdV(bStringj, V, state):\n",
    "    '''\n",
    "    Calculate dOdV explicitly\n",
    "    '''\n",
    "    Pj = bitProjector(bStringj)\n",
    "    stateDim = state.shape[0]\n",
    "    traceDim = state.shape[0] // Pj.shape[0]\n",
    "    remDim = stateDim // traceDim\n",
    "\n",
    "    I = np.eye(traceDim)\n",
    "    \n",
    "    Vphi = V @ state\n",
    "    Vphi = Vphi.reshape(traceDim, remDim)\n",
    "    dOdV = ncon([I, Pj, Vphi, state.conj()], ((-1, 1), (-2, 2), (1, 2), (-3,)))\n",
    "    return dOdV.reshape(stateDim, stateDim)"
   ]
  },
  {
   "cell_type": "code",
   "execution_count": 244,
   "id": "b36f334d",
   "metadata": {},
   "outputs": [],
   "source": [
    "def explicit_dOdV2(bStringj, V, state):\n",
    "    '''\n",
    "    Calculate dOdV explicitly\n",
    "    '''\n",
    "    Pj = bitProjector(bStringj)\n",
    "    stateDim = state.shape[0]\n",
    "    traceDim = state.shape[0] // Pj.shape[0]\n",
    "\n",
    "    I = np.eye(traceDim)\n",
    "    \n",
    "    IP = ncon([I, Pj], ((-1, -3), (-2, -4))).reshape(stateDim, stateDim)\n",
    "    Vphi = V @ state\n",
    "    #Vphi = Vphi.reshape(traceDim, -1)\n",
    "    dOdV = ncon([IP, Vphi, state.conj()], ((-1, 1), (1,), (-3,)))\n",
    "    return dOdV.reshape(stateDim, stateDim)"
   ]
  },
  {
   "cell_type": "code",
   "execution_count": 157,
   "id": "55f8fb5c",
   "metadata": {},
   "outputs": [
    {
     "name": "stdout",
     "output_type": "stream",
     "text": [
      "00\n"
     ]
    },
    {
     "data": {
      "image/png": "[encoded data removed]",
      "text/plain": [
       "<Figure size 432x288 with 1 Axes>"
      ]
     },
     "metadata": {
      "needs_background": "light"
     },
     "output_type": "display_data"
    },
    {
     "name": "stdout",
     "output_type": "stream",
     "text": [
      "{0, 8, 4, 12}\n",
      "\n",
      "01\n"
     ]
    },
    {
     "data": {
      "image/png": "[encoded data removed]",
      "text/plain": [
       "<Figure size 432x288 with 1 Axes>"
      ]
     },
     "metadata": {
      "needs_background": "light"
     },
     "output_type": "display_data"
    },
    {
     "name": "stdout",
     "output_type": "stream",
     "text": [
      "{1, 13, 5, 9}\n",
      "\n",
      "10\n"
     ]
    },
    {
     "data": {
      "image/png": "[encoded data removed]",
      "text/plain": [
       "<Figure size 432x288 with 1 Axes>"
      ]
     },
     "metadata": {
      "needs_background": "light"
     },
     "output_type": "display_data"
    },
    {
     "name": "stdout",
     "output_type": "stream",
     "text": [
      "{2, 10, 6, 14}\n",
      "\n",
      "11\n"
     ]
    },
    {
     "data": {
      "image/png": "[encoded data removed]",
      "text/plain": [
       "<Figure size 432x288 with 1 Axes>"
      ]
     },
     "metadata": {
      "needs_background": "light"
     },
     "output_type": "display_data"
    },
    {
     "name": "stdout",
     "output_type": "stream",
     "text": [
      "{11, 3, 15, 7}\n",
      "\n"
     ]
    }
   ],
   "source": [
    "bStrings = ['00', '01', '10', '11']\n",
    "rowDict = {}\n",
    "for b in bStrings:\n",
    "    print(b)\n",
    "    dOdV = explicit_dOdV(b, V, state)\n",
    "    plt.imshow(np.abs(dOdV))\n",
    "    plt.show()\n",
    "    args = np.argwhere(dOdV)\n",
    "    print(set(args[:, 0]))\n",
    "    rowDict[b] = set(args[:, 0])\n",
    "    print()"
   ]
  },
  {
   "cell_type": "code",
   "execution_count": 158,
   "id": "60af336c",
   "metadata": {},
   "outputs": [
    {
     "name": "stdout",
     "output_type": "stream",
     "text": [
      "00\n"
     ]
    },
    {
     "data": {
      "image/png": "[encoded data removed]",
      "text/plain": [
       "<Figure size 432x288 with 1 Axes>"
      ]
     },
     "metadata": {
      "needs_background": "light"
     },
     "output_type": "display_data"
    },
    {
     "name": "stdout",
     "output_type": "stream",
     "text": [
      "{0, 8, 4, 12}\n",
      "\n",
      "01\n"
     ]
    },
    {
     "data": {
      "image/png": "[encoded data removed]",
      "text/plain": [
       "<Figure size 432x288 with 1 Axes>"
      ]
     },
     "metadata": {
      "needs_background": "light"
     },
     "output_type": "display_data"
    },
    {
     "name": "stdout",
     "output_type": "stream",
     "text": [
      "{1, 13, 5, 9}\n",
      "\n",
      "10\n"
     ]
    },
    {
     "data": {
      "image/png": "[encoded data removed]",
      "text/plain": [
       "<Figure size 432x288 with 1 Axes>"
      ]
     },
     "metadata": {
      "needs_background": "light"
     },
     "output_type": "display_data"
    },
    {
     "name": "stdout",
     "output_type": "stream",
     "text": [
      "{2, 10, 6, 14}\n",
      "\n",
      "11\n"
     ]
    },
    {
     "data": {
      "image/png": "[encoded data removed]",
      "text/plain": [
       "<Figure size 432x288 with 1 Axes>"
      ]
     },
     "metadata": {
      "needs_background": "light"
     },
     "output_type": "display_data"
    },
    {
     "name": "stdout",
     "output_type": "stream",
     "text": [
      "{11, 3, 15, 7}\n",
      "\n"
     ]
    }
   ],
   "source": [
    "bStrings = ['00', '01', '10', '11']\n",
    "rowDict = {}\n",
    "for b in bStrings:\n",
    "    print(b)\n",
    "    dOdV = explicit_dOdV2(b, V, state)\n",
    "    plt.imshow(np.abs(dOdV))\n",
    "    plt.show()\n",
    "    args = np.argwhere(dOdV)\n",
    "    print(set(args[:, 0]))\n",
    "    rowDict[b] = set(args[:, 0])\n",
    "    print()"
   ]
  },
  {
   "cell_type": "code",
   "execution_count": 159,
   "id": "e843a44f",
   "metadata": {},
   "outputs": [
    {
     "data": {
      "text/plain": [
       "{'00': {0, 4, 8, 12},\n",
       " '01': {1, 5, 9, 13},\n",
       " '10': {2, 6, 10, 14},\n",
       " '11': {3, 7, 11, 15}}"
      ]
     },
     "execution_count": 159,
     "metadata": {},
     "output_type": "execute_result"
    }
   ],
   "source": [
    "rowDict"
   ]
  },
  {
   "cell_type": "markdown",
   "id": "4dcffe5c",
   "metadata": {},
   "source": [
    "Have a look at what $\\mathbb{I} \\otimes P_j$ looks like"
   ]
  },
  {
   "cell_type": "code",
   "execution_count": 163,
   "id": "593c5c53",
   "metadata": {},
   "outputs": [
    {
     "name": "stdout",
     "output_type": "stream",
     "text": [
      "00\n",
      "[[1 0 0 0]\n",
      " [0 0 0 0]\n",
      " [0 0 0 0]\n",
      " [0 0 0 0]]\n"
     ]
    },
    {
     "data": {
      "image/png": "[encoded data removed]",
      "text/plain": [
       "<Figure size 432x288 with 1 Axes>"
      ]
     },
     "metadata": {
      "needs_background": "light"
     },
     "output_type": "display_data"
    },
    {
     "name": "stdout",
     "output_type": "stream",
     "text": [
      "01\n",
      "[[0 0 0 0]\n",
      " [0 1 0 0]\n",
      " [0 0 0 0]\n",
      " [0 0 0 0]]\n"
     ]
    },
    {
     "data": {
      "image/png": "[encoded data removed]",
      "text/plain": [
       "<Figure size 432x288 with 1 Axes>"
      ]
     },
     "metadata": {
      "needs_background": "light"
     },
     "output_type": "display_data"
    },
    {
     "name": "stdout",
     "output_type": "stream",
     "text": [
      "10\n",
      "[[0 0 0 0]\n",
      " [0 0 0 0]\n",
      " [0 0 1 0]\n",
      " [0 0 0 0]]\n"
     ]
    },
    {
     "data": {
      "image/png": "[encoded data removed]",
      "text/plain": [
       "<Figure size 432x288 with 1 Axes>"
      ]
     },
     "metadata": {
      "needs_background": "light"
     },
     "output_type": "display_data"
    },
    {
     "name": "stdout",
     "output_type": "stream",
     "text": [
      "11\n",
      "[[0 0 0 0]\n",
      " [0 0 0 0]\n",
      " [0 0 0 0]\n",
      " [0 0 0 1]]\n"
     ]
    },
    {
     "data": {
      "image/png": "[encoded data removed]",
      "text/plain": [
       "<Figure size 432x288 with 1 Axes>"
      ]
     },
     "metadata": {
      "needs_background": "light"
     },
     "output_type": "display_data"
    }
   ],
   "source": [
    "for b in bStrings:\n",
    "    print(b)\n",
    "    Pj = bitProjector(b)\n",
    "    stateDim = 2**nQb\n",
    "    traceDim = 2**(nQb - 2)\n",
    "\n",
    "    I = np.eye(traceDim)\n",
    "    IP = ncon([I, Pj], ((-1, -3), (-2, -4))).reshape(stateDim, stateDim)\n",
    "    print(Pj)\n",
    "    plt.imshow(IP)\n",
    "    plt.show()"
   ]
  },
  {
   "cell_type": "markdown",
   "id": "04948910",
   "metadata": {},
   "source": [
    "Clearly this would be like applying identity in some ways to $V |\\phi>$"
   ]
  },
  {
   "cell_type": "code",
   "execution_count": 169,
   "id": "0311065a",
   "metadata": {},
   "outputs": [
    {
     "name": "stdout",
     "output_type": "stream",
     "text": [
      "[ 1  2  3  4  5  6  7  8  9 10 11 12 13 14 15 16]\n",
      "[ 1.  0.  0.  0.  5.  0.  0.  0.  9.  0.  0.  0. 13.  0.  0.  0.]\n"
     ]
    }
   ],
   "source": [
    "state = np.arange(2**nQb) + 1\n",
    "Pj = bitProjector('00')\n",
    "stateDim = 2**nQb\n",
    "traceDim = 2**(nQb - 2)\n",
    "\n",
    "I = np.eye(traceDim)\n",
    "IP = ncon([I, Pj], ((-1, -3), (-2, -4))).reshape(stateDim, stateDim)\n",
    "\n",
    "print(state)\n",
    "print(IP@state)"
   ]
  },
  {
   "cell_type": "markdown",
   "id": "326c9334",
   "metadata": {},
   "source": [
    "So essentially the operation $(\\mathbb{I} \\otimes P_j) \\cdot \\phi$ selects the elements $\\phi_k$ of $\\phi$ where `(k - j) % remDim == 0`. In words it selects every `j + remDim` possible from the state. \n",
    "\n",
    "We can do this through lookup without executing the matrix multiplication"
   ]
  },
  {
   "cell_type": "code",
   "execution_count": 181,
   "id": "2b10f3d2",
   "metadata": {},
   "outputs": [
    {
     "name": "stdout",
     "output_type": "stream",
     "text": [
      "[ 0  4  8 12]\n",
      "[ 1.  0.  0.  0.  5.  0.  0.  0.  9.  0.  0.  0. 13.  0.  0.  0.]\n"
     ]
    }
   ],
   "source": [
    "j = 0\n",
    "remDim = stateDim // traceDim\n",
    "indices = np.arange(j, stateDim, remDim)\n",
    "print(indices)\n",
    "\n",
    "efficientIPState = np.zeros(stateDim)\n",
    "efficientIPState[indices] = state[indices]\n",
    "print(efficientIPState)"
   ]
  },
  {
   "cell_type": "code",
   "execution_count": null,
   "id": "d3c6f4a4",
   "metadata": {},
   "outputs": [],
   "source": []
  },
  {
   "cell_type": "markdown",
   "id": "ee412711",
   "metadata": {},
   "source": [
    "So to calculate $(I \\otimes P_j) \\cdot V \\cdot \\phi$ efficiently we note that we actually only need to do the $k$ row of V multiplied by the state. "
   ]
  },
  {
   "cell_type": "code",
   "execution_count": 221,
   "id": "83782a54",
   "metadata": {},
   "outputs": [
    {
     "name": "stdout",
     "output_type": "stream",
     "text": [
      "0\n",
      "IPV close:  True\n",
      "IPVstate close:  True\n",
      "\n",
      "1\n",
      "IPV close:  True\n",
      "IPVstate close:  True\n",
      "\n",
      "2\n",
      "IPV close:  True\n",
      "IPVstate close:  True\n",
      "\n",
      "3\n",
      "IPV close:  True\n",
      "IPVstate close:  True\n",
      "\n"
     ]
    }
   ],
   "source": [
    "V = np.random.randn(2**nQb, 2**nQb)\n",
    "state = np.random.randn(2**nQb)\n",
    "\n",
    "#V = np.arange(2**(nQb*2)).reshape(2**nQb, 2**nQb) + 1\n",
    "#state = np.arange(2**nQb) + 1\n",
    "\n",
    "for j in range(4):\n",
    "    print(j)\n",
    "    bStr = bStrings[j]\n",
    "    Pj = bitProjector(bStr)\n",
    "    stateDim = 2**nQb\n",
    "    traceDim = 2**(nQb - 2)\n",
    "\n",
    "    I = np.eye(traceDim)\n",
    "    IP = ncon([I, Pj], ((-1, -3), (-2, -4))).reshape(stateDim, stateDim)\n",
    "    IPV = IP @ V\n",
    "    IPVstate = IPV @ state\n",
    "    \n",
    "    efficientIPV = np.zeros((2**nQb, 2**nQb))\n",
    "    indices = np.arange(j, stateDim, remDim)\n",
    "    efficientIPV[indices, :] = V[indices, :]\n",
    "    print('IPV close: ', np.allclose(efficientIPV, IPV))\n",
    "    \n",
    "    efficientIPVstate = np.zeros(2**nQb)\n",
    "    efficientIPVstate[indices] = np.einsum('ij, j -> i', V[indices, :], state)\n",
    "\n",
    "    print('IPVstate close: ', np.allclose(IPVstate, efficientIPVstate))\n",
    "    print()"
   ]
  },
  {
   "cell_type": "markdown",
   "id": "f909475f",
   "metadata": {},
   "source": [
    "Now consider how the outer product with the remaining state works"
   ]
  },
  {
   "cell_type": "code",
   "execution_count": 222,
   "id": "09b1d4c5",
   "metadata": {},
   "outputs": [],
   "source": [
    "state = np.arange(2**nQb) + 1\n",
    "\n",
    "stateDim = 2**nQb\n",
    "traceDim = 2**(nQb - 2)\n",
    "j = 0\n",
    "remDim = stateDim // traceDim\n",
    "indices = np.arange(j, stateDim, remDim)\n",
    "\n",
    "\n",
    "IPVstate = np.zeros(2**nQb)\n",
    "IPVstate[indices] = np.arange(len(indices))+1"
   ]
  },
  {
   "cell_type": "code",
   "execution_count": 224,
   "id": "26094afa",
   "metadata": {},
   "outputs": [
    {
     "name": "stdout",
     "output_type": "stream",
     "text": [
      "[1. 0. 0. 0. 2. 0. 0. 0. 3. 0. 0. 0. 4. 0. 0. 0.]\n",
      "[ 1  2  3  4  5  6  7  8  9 10 11 12 13 14 15 16]\n"
     ]
    }
   ],
   "source": [
    "print(IPVstate)\n",
    "print(state)"
   ]
  },
  {
   "cell_type": "code",
   "execution_count": 229,
   "id": "d673414a",
   "metadata": {},
   "outputs": [
    {
     "name": "stdout",
     "output_type": "stream",
     "text": [
      "[[ 1.  2.  3.  4.  5.  6.  7.  8.  9. 10. 11. 12. 13. 14. 15. 16.]\n",
      " [ 0.  0.  0.  0.  0.  0.  0.  0.  0.  0.  0.  0.  0.  0.  0.  0.]\n",
      " [ 0.  0.  0.  0.  0.  0.  0.  0.  0.  0.  0.  0.  0.  0.  0.  0.]\n",
      " [ 0.  0.  0.  0.  0.  0.  0.  0.  0.  0.  0.  0.  0.  0.  0.  0.]\n",
      " [ 2.  4.  6.  8. 10. 12. 14. 16. 18. 20. 22. 24. 26. 28. 30. 32.]\n",
      " [ 0.  0.  0.  0.  0.  0.  0.  0.  0.  0.  0.  0.  0.  0.  0.  0.]\n",
      " [ 0.  0.  0.  0.  0.  0.  0.  0.  0.  0.  0.  0.  0.  0.  0.  0.]\n",
      " [ 0.  0.  0.  0.  0.  0.  0.  0.  0.  0.  0.  0.  0.  0.  0.  0.]\n",
      " [ 3.  6.  9. 12. 15. 18. 21. 24. 27. 30. 33. 36. 39. 42. 45. 48.]\n",
      " [ 0.  0.  0.  0.  0.  0.  0.  0.  0.  0.  0.  0.  0.  0.  0.  0.]\n",
      " [ 0.  0.  0.  0.  0.  0.  0.  0.  0.  0.  0.  0.  0.  0.  0.  0.]\n",
      " [ 0.  0.  0.  0.  0.  0.  0.  0.  0.  0.  0.  0.  0.  0.  0.  0.]\n",
      " [ 4.  8. 12. 16. 20. 24. 28. 32. 36. 40. 44. 48. 52. 56. 60. 64.]\n",
      " [ 0.  0.  0.  0.  0.  0.  0.  0.  0.  0.  0.  0.  0.  0.  0.  0.]\n",
      " [ 0.  0.  0.  0.  0.  0.  0.  0.  0.  0.  0.  0.  0.  0.  0.  0.]\n",
      " [ 0.  0.  0.  0.  0.  0.  0.  0.  0.  0.  0.  0.  0.  0.  0.  0.]]\n",
      "True\n",
      "True\n"
     ]
    }
   ],
   "source": [
    "direct_outer = np.outer(IPVstate, state)\n",
    "ncon_outer = ncon([IPVstate, state], ((-1,), (-2,)))\n",
    "einsum_outer = np.einsum('i, j -> ij', IPVstate, state)\n",
    "print(direct_outer)\n",
    "print(np.allclose(ncon_outer, direct_outer))\n",
    "print(np.allclose(einsum_outer, direct_outer))"
   ]
  },
  {
   "cell_type": "markdown",
   "id": "9563efef",
   "metadata": {},
   "source": [
    "Essentially this is selecting each `k` row of the output matrix and weighting the state by the outcome of `IPVstate` at the `k` index. "
   ]
  },
  {
   "cell_type": "code",
   "execution_count": 245,
   "id": "f1f9e69c",
   "metadata": {},
   "outputs": [],
   "source": [
    "V = np.arange(2**(nQb*2)).reshape(2**nQb, 2**nQb) + 1\n",
    "state = np.arange(2**nQb) + 1\n",
    "\n",
    "stateDim = 2**nQb\n",
    "traceDim = 2**(nQb - 2)\n",
    "remDim = stateDim // traceDim"
   ]
  },
  {
   "cell_type": "code",
   "execution_count": 246,
   "id": "42cb0ace",
   "metadata": {},
   "outputs": [],
   "source": [
    "j = 0\n",
    "bStr = bStrings[j]\n",
    "indices = np.arange(j, stateDim, remDim)"
   ]
  },
  {
   "cell_type": "code",
   "execution_count": 247,
   "id": "9c757e64",
   "metadata": {},
   "outputs": [
    {
     "name": "stdout",
     "output_type": "stream",
     "text": [
      "[[  1   2   3   4   5   6   7   8   9  10  11  12  13  14  15  16]\n",
      " [ 17  18  19  20  21  22  23  24  25  26  27  28  29  30  31  32]\n",
      " [ 33  34  35  36  37  38  39  40  41  42  43  44  45  46  47  48]\n",
      " [ 49  50  51  52  53  54  55  56  57  58  59  60  61  62  63  64]\n",
      " [ 65  66  67  68  69  70  71  72  73  74  75  76  77  78  79  80]\n",
      " [ 81  82  83  84  85  86  87  88  89  90  91  92  93  94  95  96]\n",
      " [ 97  98  99 100 101 102 103 104 105 106 107 108 109 110 111 112]\n",
      " [113 114 115 116 117 118 119 120 121 122 123 124 125 126 127 128]\n",
      " [129 130 131 132 133 134 135 136 137 138 139 140 141 142 143 144]\n",
      " [145 146 147 148 149 150 151 152 153 154 155 156 157 158 159 160]\n",
      " [161 162 163 164 165 166 167 168 169 170 171 172 173 174 175 176]\n",
      " [177 178 179 180 181 182 183 184 185 186 187 188 189 190 191 192]\n",
      " [193 194 195 196 197 198 199 200 201 202 203 204 205 206 207 208]\n",
      " [209 210 211 212 213 214 215 216 217 218 219 220 221 222 223 224]\n",
      " [225 226 227 228 229 230 231 232 233 234 235 236 237 238 239 240]\n",
      " [241 242 243 244 245 246 247 248 249 250 251 252 253 254 255 256]]\n",
      "[ 1  2  3  4  5  6  7  8  9 10 11 12 13 14 15 16]\n",
      "[ 1496.  2992.  4488.  5984.  7480.  8976. 10472. 11968. 13464. 14960.\n",
      " 16456. 17952. 19448. 20944. 22440. 23936.]\n"
     ]
    }
   ],
   "source": [
    "print(V)\n",
    "print(state)\n",
    "dirdOdV = explicit_dOdV(bStr, V, state)\n",
    "print(dirdOdV[0])"
   ]
  },
  {
   "cell_type": "code",
   "execution_count": 256,
   "id": "dd8ca41a",
   "metadata": {},
   "outputs": [],
   "source": [
    "efficient_outer = np.zeros((2**nQb, 2**nQb))\n",
    "efficient_outer[indices, :] = np.einsum('ij, j -> i', V[indices, :], state)[:, np.newaxis] * state"
   ]
  },
  {
   "cell_type": "code",
   "execution_count": 258,
   "id": "c3b1e42d",
   "metadata": {},
   "outputs": [
    {
     "name": "stdout",
     "output_type": "stream",
     "text": [
      "True\n"
     ]
    }
   ],
   "source": [
    "print(np.allclose(dirdOdV, efficient_outer))"
   ]
  },
  {
   "cell_type": "code",
   "execution_count": 259,
   "id": "34ca39f9",
   "metadata": {},
   "outputs": [
    {
     "data": {
      "text/plain": [
       "0"
      ]
     },
     "execution_count": 259,
     "metadata": {},
     "output_type": "execute_result"
    }
   ],
   "source": [
    "int('00', 2)"
   ]
  },
  {
   "cell_type": "code",
   "execution_count": 275,
   "id": "ad3de2e1",
   "metadata": {},
   "outputs": [],
   "source": [
    "def efficientdOdV(bStr, V, state):\n",
    "    '''\n",
    "    Efficiently Calculate dOdV\n",
    "    '''\n",
    "    bInd = int(bStr, 2)\n",
    "    \n",
    "    stateDim = state.shape[0]\n",
    "    traceDim = state.shape[0] // Pj.shape[0]\n",
    "    remDim = stateDim // traceDim\n",
    "    \n",
    "    indices = np.arange(bInd, stateDim, remDim)\n",
    "\n",
    "    dOdV = np.zeros((2**nQb, 2**nQb))\n",
    "    dOdV[indices, :] = np.einsum('ij, j -> i', V[indices, :], state)[:, np.newaxis] * state.conj()\n",
    "    return dOdV"
   ]
  },
  {
   "cell_type": "code",
   "execution_count": 276,
   "id": "8533d390",
   "metadata": {},
   "outputs": [],
   "source": [
    "bStrings = ['00', '01', '10', '11']"
   ]
  },
  {
   "cell_type": "code",
   "execution_count": 277,
   "id": "929b3437",
   "metadata": {},
   "outputs": [],
   "source": [
    "#V = np.arange(2**(nQb*2)).reshape(2**nQb, 2**nQb) + 1\n",
    "#state = np.arange(2**nQb) + 1\n",
    "\n",
    "V = np.random.randn(2**nQb, 2**nQb)\n",
    "state = np.random.randn(2**nQb)"
   ]
  },
  {
   "cell_type": "code",
   "execution_count": 279,
   "id": "d7b08a68",
   "metadata": {},
   "outputs": [
    {
     "name": "stdout",
     "output_type": "stream",
     "text": [
      "00\n",
      "True\n",
      "\n",
      "01\n",
      "True\n",
      "\n",
      "10\n",
      "True\n",
      "\n",
      "11\n",
      "True\n",
      "\n"
     ]
    }
   ],
   "source": [
    "for j in range(4):\n",
    "    bStr = bStrings[j]\n",
    "    print(bStr)\n",
    "\n",
    "    dirdOdV = explicit_dOdV(bStr, V, state)\n",
    "    effdOdV = efficientdOdV(bStr, V, state)\n",
    "    print(np.allclose(dirdOdV, effdOdV))\n",
    "    print()"
   ]
  },
  {
   "cell_type": "code",
   "execution_count": 280,
   "id": "dc1010ce",
   "metadata": {},
   "outputs": [
    {
     "name": "stdout",
     "output_type": "stream",
     "text": [
      "716 µs ± 44.2 µs per loop (mean ± std. dev. of 7 runs, 1,000 loops each)\n"
     ]
    }
   ],
   "source": [
    "%%timeit\n",
    "for j in range(4):\n",
    "    bStr = bStrings[j]\n",
    "    dirdOdV = explicit_dOdV(bStr, V, state)"
   ]
  },
  {
   "cell_type": "code",
   "execution_count": 281,
   "id": "75010686",
   "metadata": {},
   "outputs": [
    {
     "name": "stdout",
     "output_type": "stream",
     "text": [
      "45.5 µs ± 1.3 µs per loop (mean ± std. dev. of 7 runs, 10,000 loops each)\n"
     ]
    }
   ],
   "source": [
    "%%timeit\n",
    "for j in range(4):\n",
    "    bStr = bStrings[j]\n",
    "    effdOdV = efficientdOdV(bStr, V, state)"
   ]
  },
  {
   "cell_type": "code",
   "execution_count": null,
   "id": "8e6bd5cb",
   "metadata": {},
   "outputs": [],
   "source": []
  }
 ],
 "metadata": {
  "kernelspec": {
   "display_name": "Python 3 (ipykernel)",
   "language": "python",
   "name": "python3"
  },
  "language_info": {
   "codemirror_mode": {
    "name": "ipython",
    "version": 3
   },
   "file_extension": ".py",
   "mimetype": "text/x-python",
   "name": "python",
   "nbconvert_exporter": "python",
   "pygments_lexer": "ipython3",
   "version": "3.8.10"
  }
 },
 "nbformat": 4,
 "nbformat_minor": 5
}
