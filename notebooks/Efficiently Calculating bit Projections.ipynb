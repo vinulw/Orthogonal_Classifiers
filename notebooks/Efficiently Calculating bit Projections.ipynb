{
 "cells": [
  {
   "cell_type": "code",
   "execution_count": 7,
   "id": "52cfc281",
   "metadata": {},
   "outputs": [],
   "source": [
    "import numpy as np\n",
    "from functools import reduce"
   ]
  },
  {
   "cell_type": "code",
   "execution_count": 22,
   "id": "45fa84b8",
   "metadata": {},
   "outputs": [],
   "source": [
    "zero = np.array([1, 0])\n",
    "one = np.array([0, 1])"
   ]
  },
  {
   "cell_type": "code",
   "execution_count": 3,
   "id": "59765045",
   "metadata": {},
   "outputs": [],
   "source": [
    "zero2 = np.kron(zero, zero)"
   ]
  },
  {
   "cell_type": "code",
   "execution_count": 4,
   "id": "cb7929d0",
   "metadata": {},
   "outputs": [
    {
     "data": {
      "text/plain": [
       "array([1, 0, 0, 0])"
      ]
     },
     "execution_count": 4,
     "metadata": {},
     "output_type": "execute_result"
    }
   ],
   "source": [
    "zero2"
   ]
  },
  {
   "cell_type": "code",
   "execution_count": 6,
   "id": "8425f14c",
   "metadata": {},
   "outputs": [
    {
     "data": {
      "text/plain": [
       "array([[1, 0],\n",
       "       [0, 0]])"
      ]
     },
     "execution_count": 6,
     "metadata": {},
     "output_type": "execute_result"
    }
   ],
   "source": [
    "np.outer(zero, zero)"
   ]
  },
  {
   "cell_type": "code",
   "execution_count": 8,
   "id": "60b7f8bf",
   "metadata": {},
   "outputs": [],
   "source": [
    "def zeron(n):\n",
    "    '''\n",
    "    Generate |00000...> state\n",
    "    '''\n",
    "    zero = np.array([1, 0])\n",
    "    return reduce(np.kron, [zero]*n)"
   ]
  },
  {
   "cell_type": "code",
   "execution_count": 12,
   "id": "9422f32d",
   "metadata": {},
   "outputs": [
    {
     "data": {
      "text/plain": [
       "array([[1, 0, 0, 0],\n",
       "       [0, 0, 0, 0],\n",
       "       [0, 0, 0, 0],\n",
       "       [0, 0, 0, 0]])"
      ]
     },
     "execution_count": 12,
     "metadata": {},
     "output_type": "execute_result"
    }
   ],
   "source": [
    "np.outer(zeron(2), zeron(2))"
   ]
  },
  {
   "cell_type": "code",
   "execution_count": 32,
   "id": "0b3d920c",
   "metadata": {},
   "outputs": [],
   "source": [
    "def bitState(bString):\n",
    "    '''\n",
    "    Generate bit string state\n",
    "    \n",
    "    Args\n",
    "    ----\n",
    "    bString : String of 0s and 1s describing state\n",
    "    '''\n",
    "    stateDict = {\n",
    "        '0' : np.array([1, 0]),\n",
    "        '1' : np.array([0, 1])\n",
    "    }\n",
    "\n",
    "    bArr = [stateDict[b] for b in bString]\n",
    "    return reduce(np.kron, bArr)\n",
    "\n",
    "def bitProjector(bString):\n",
    "    '''\n",
    "    Generate projector for given bitString state\n",
    "    '''\n",
    "    state = bitState(bString)\n",
    "    return np.outer(state, state)"
   ]
  },
  {
   "cell_type": "code",
   "execution_count": 33,
   "id": "0bcf21cd",
   "metadata": {},
   "outputs": [
    {
     "data": {
      "text/plain": [
       "array([0, 0, 1, 0])"
      ]
     },
     "execution_count": 33,
     "metadata": {},
     "output_type": "execute_result"
    }
   ],
   "source": [
    "bitState('10')"
   ]
  },
  {
   "cell_type": "code",
   "execution_count": 34,
   "id": "e05ef9bf",
   "metadata": {},
   "outputs": [
    {
     "data": {
      "text/plain": [
       "array([0, 1, 0, 0])"
      ]
     },
     "execution_count": 34,
     "metadata": {},
     "output_type": "execute_result"
    }
   ],
   "source": [
    "np.kron(zero, one)"
   ]
  },
  {
   "cell_type": "code",
   "execution_count": 35,
   "id": "a303ca6c",
   "metadata": {},
   "outputs": [
    {
     "data": {
      "text/plain": [
       "array([[0, 0, 0, 0],\n",
       "       [0, 0, 0, 0],\n",
       "       [0, 0, 1, 0],\n",
       "       [0, 0, 0, 0]])"
      ]
     },
     "execution_count": 35,
     "metadata": {},
     "output_type": "execute_result"
    }
   ],
   "source": [
    "bitProjector('10')"
   ]
  },
  {
   "cell_type": "markdown",
   "id": "8b6dce48",
   "metadata": {},
   "source": [
    "Generate random 4 qubit state. Trace out the first two qubits and project on the last two. "
   ]
  },
  {
   "cell_type": "code",
   "execution_count": 39,
   "id": "c07ce475",
   "metadata": {},
   "outputs": [],
   "source": [
    "nqubits = 4\n",
    "dim = 2**4\n",
    "phi = np.random.rand(dim) + 1j*np.random.rand(dim) # Generate a random state\n",
    "norm = np.linalg.norm(phi)\n",
    "phi = phi / norm # normalise state"
   ]
  },
  {
   "cell_type": "code",
   "execution_count": 40,
   "id": "4a079193",
   "metadata": {},
   "outputs": [
    {
     "data": {
      "text/plain": [
       "(1.0000000000000002+0j)"
      ]
     },
     "execution_count": 40,
     "metadata": {},
     "output_type": "execute_result"
    }
   ],
   "source": [
    "phi @ np.conj(phi)"
   ]
  },
  {
   "cell_type": "code",
   "execution_count": 42,
   "id": "4e5b6554",
   "metadata": {},
   "outputs": [],
   "source": [
    "import qiskit\n",
    "import qiskit.quantum_info as qi"
   ]
  },
  {
   "cell_type": "code",
   "execution_count": 43,
   "id": "905ba443",
   "metadata": {},
   "outputs": [],
   "source": [
    "state = qi.Statevector(bitState('10'))"
   ]
  },
  {
   "cell_type": "code",
   "execution_count": 45,
   "id": "e1c06f2f",
   "metadata": {},
   "outputs": [
    {
     "data": {
      "text/latex": [
       "$$ |10\\rangle$$"
      ],
      "text/plain": [
       "<IPython.core.display.Latex object>"
      ]
     },
     "execution_count": 45,
     "metadata": {},
     "output_type": "execute_result"
    }
   ],
   "source": [
    "state.draw(output='latex')"
   ]
  },
  {
   "cell_type": "code",
   "execution_count": 46,
   "id": "ad4c9af8",
   "metadata": {},
   "outputs": [],
   "source": [
    "dMatrix = qi.DensityMatrix(state)"
   ]
  },
  {
   "cell_type": "code",
   "execution_count": 47,
   "id": "84fde6ba",
   "metadata": {},
   "outputs": [
    {
     "name": "stdout",
     "output_type": "stream",
     "text": [
      "DensityMatrix([[0.+0.j, 0.+0.j, 0.+0.j, 0.+0.j],\n",
      "               [0.+0.j, 0.+0.j, 0.+0.j, 0.+0.j],\n",
      "               [0.+0.j, 0.+0.j, 1.+0.j, 0.+0.j],\n",
      "               [0.+0.j, 0.+0.j, 0.+0.j, 0.+0.j]],\n",
      "              dims=(2, 2))\n"
     ]
    }
   ],
   "source": [
    "dMatrix"
   ]
  },
  {
   "cell_type": "code",
   "execution_count": 48,
   "id": "667e0d74",
   "metadata": {},
   "outputs": [
    {
     "name": "stdout",
     "output_type": "stream",
     "text": [
      "DensityMatrix([[0.+0.j, 0.+0.j],\n",
      "               [0.+0.j, 1.+0.j]],\n",
      "              dims=(2,))\n"
     ]
    }
   ],
   "source": [
    "qi.partial_trace(dMatrix, [0])"
   ]
  },
  {
   "cell_type": "code",
   "execution_count": 49,
   "id": "4bb5376c",
   "metadata": {},
   "outputs": [
    {
     "name": "stdout",
     "output_type": "stream",
     "text": [
      "DensityMatrix([[0.+0.j, 0.+0.j],\n",
      "               [0.+0.j, 1.+0.j]],\n",
      "              dims=(2,))\n"
     ]
    }
   ],
   "source": [
    "qi.DensityMatrix(bitState('1'))"
   ]
  },
  {
   "cell_type": "code",
   "execution_count": 69,
   "id": "eb2ea36d",
   "metadata": {},
   "outputs": [],
   "source": [
    "def partialTrace(state, tracedInds):\n",
    "    \n",
    "    nqubits = int(np.log2(state.shape[0]))\n",
    "    state = state.reshape([2]*nqubits)\n",
    "    \n",
    "    traced = np.tensordot(state, state.conj(), [tracedInds, tracedInds])\n",
    "\n",
    "    nRemaining = len(traced.shape) // 2\n",
    "    return traced.reshape([2**nRemaining]*2)"
   ]
  },
  {
   "cell_type": "code",
   "execution_count": 70,
   "id": "58fd6c1d",
   "metadata": {},
   "outputs": [
    {
     "data": {
      "text/plain": [
       "array([[1, 0],\n",
       "       [0, 0]])"
      ]
     },
     "execution_count": 70,
     "metadata": {},
     "output_type": "execute_result"
    }
   ],
   "source": [
    "partialTrace(bitState('10'), [0])"
   ]
  },
  {
   "cell_type": "markdown",
   "id": "c8286abd",
   "metadata": {},
   "source": [
    "Verifying the behaviour of the projector"
   ]
  },
  {
   "cell_type": "code",
   "execution_count": 72,
   "id": "50dc1310",
   "metadata": {},
   "outputs": [],
   "source": [
    "state = np.random.randn(4) + 1j*np.random.rand(4)\n",
    "state = state / np.linalg.norm(state)"
   ]
  },
  {
   "cell_type": "code",
   "execution_count": 73,
   "id": "01ea1e7f",
   "metadata": {},
   "outputs": [],
   "source": [
    "phi = np.outer(state, state)"
   ]
  },
  {
   "cell_type": "code",
   "execution_count": 74,
   "id": "4075a0f8",
   "metadata": {},
   "outputs": [
    {
     "data": {
      "text/plain": [
       "array([[ 0.06851472+0.26107273j,  0.20143244+0.21700038j,\n",
       "        -0.26204406-0.1517595j ,  0.07432868+0.1103321j ],\n",
       "       [ 0.20143244+0.21700038j,  0.30715371+0.10555942j,\n",
       "        -0.33198982-0.01108458j,  0.12900683+0.06821381j],\n",
       "       [-0.26204406-0.1517595j , -0.33198982-0.01108458j,\n",
       "         0.32793682-0.08874021j, -0.14660027-0.02800304j],\n",
       "       [ 0.07432868+0.1103321j ,  0.12900683+0.06821381j,\n",
       "        -0.14660027-0.02800304j,  0.05252363+0.03924983j]])"
      ]
     },
     "execution_count": 74,
     "metadata": {},
     "output_type": "execute_result"
    }
   ],
   "source": [
    "phi"
   ]
  },
  {
   "cell_type": "code",
   "execution_count": 75,
   "id": "e492034c",
   "metadata": {},
   "outputs": [],
   "source": [
    "proj = bitProjector('00')"
   ]
  },
  {
   "cell_type": "code",
   "execution_count": 76,
   "id": "f3a5fdfd",
   "metadata": {},
   "outputs": [
    {
     "data": {
      "text/plain": [
       "array([[1, 0, 0, 0],\n",
       "       [0, 0, 0, 0],\n",
       "       [0, 0, 0, 0],\n",
       "       [0, 0, 0, 0]])"
      ]
     },
     "execution_count": 76,
     "metadata": {},
     "output_type": "execute_result"
    }
   ],
   "source": [
    "proj"
   ]
  },
  {
   "cell_type": "code",
   "execution_count": 77,
   "id": "5ea819e5",
   "metadata": {},
   "outputs": [
    {
     "data": {
      "text/plain": [
       "(0.06851471651927271+0.2610727310919041j)"
      ]
     },
     "execution_count": 77,
     "metadata": {},
     "output_type": "execute_result"
    }
   ],
   "source": [
    "np.trace(proj @ phi)"
   ]
  },
  {
   "cell_type": "code",
   "execution_count": 78,
   "id": "575fbab6",
   "metadata": {},
   "outputs": [
    {
     "data": {
      "text/plain": [
       "array([[ 0.06851472+0.26107273j,  0.20143244+0.21700038j,\n",
       "        -0.26204406-0.1517595j ,  0.07432868+0.1103321j ],\n",
       "       [ 0.        +0.j        ,  0.        +0.j        ,\n",
       "         0.        +0.j        ,  0.        +0.j        ],\n",
       "       [ 0.        +0.j        ,  0.        +0.j        ,\n",
       "         0.        +0.j        ,  0.        +0.j        ],\n",
       "       [ 0.        +0.j        ,  0.        +0.j        ,\n",
       "         0.        +0.j        ,  0.        +0.j        ]])"
      ]
     },
     "execution_count": 78,
     "metadata": {},
     "output_type": "execute_result"
    }
   ],
   "source": [
    "proj @ phi"
   ]
  },
  {
   "cell_type": "code",
   "execution_count": 85,
   "id": "0911077b",
   "metadata": {},
   "outputs": [
    {
     "data": {
      "text/plain": [
       "'00100'"
      ]
     },
     "execution_count": 85,
     "metadata": {},
     "output_type": "execute_result"
    }
   ],
   "source": [
    "bin(4)[2:].zfill(5)"
   ]
  },
  {
   "cell_type": "code",
   "execution_count": 87,
   "id": "ab670f3a",
   "metadata": {},
   "outputs": [
    {
     "name": "stdout",
     "output_type": "stream",
     "text": [
      "0000\n",
      "[[0 0]]\n",
      "0001\n",
      "[[1 1]]\n",
      "0010\n",
      "[[2 2]]\n",
      "0011\n",
      "[[3 3]]\n",
      "0100\n",
      "[[4 4]]\n",
      "0101\n",
      "[[5 5]]\n",
      "0110\n",
      "[[6 6]]\n",
      "0111\n",
      "[[7 7]]\n",
      "1000\n",
      "[[8 8]]\n",
      "1001\n",
      "[[9 9]]\n"
     ]
    }
   ],
   "source": [
    "bstrings = [bin(i)[2:].zfill(4) for i in range(10)]\n",
    "\n",
    "for b in bstrings:\n",
    "    print(b)\n",
    "    print(np.argwhere(bitProjector(b)))"
   ]
  },
  {
   "cell_type": "code",
   "execution_count": null,
   "id": "556dd071",
   "metadata": {},
   "outputs": [],
   "source": []
  }
 ],
 "metadata": {
  "kernelspec": {
   "display_name": "Python 3 (ipykernel)",
   "language": "python",
   "name": "python3"
  },
  "language_info": {
   "codemirror_mode": {
    "name": "ipython",
    "version": 3
   },
   "file_extension": ".py",
   "mimetype": "text/x-python",
   "name": "python",
   "nbconvert_exporter": "python",
   "pygments_lexer": "ipython3",
   "version": "3.8.10"
  }
 },
 "nbformat": 4,
 "nbformat_minor": 5
}
