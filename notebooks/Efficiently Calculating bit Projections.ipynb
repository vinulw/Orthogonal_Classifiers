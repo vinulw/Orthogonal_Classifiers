{
 "cells": [
  {
   "cell_type": "code",
   "execution_count": 1,
   "id": "52cfc281",
   "metadata": {},
   "outputs": [],
   "source": [
    "import numpy as np\n",
    "from functools import reduce"
   ]
  },
  {
   "cell_type": "code",
   "execution_count": 2,
   "id": "45fa84b8",
   "metadata": {},
   "outputs": [],
   "source": [
    "zero = np.array([1, 0])\n",
    "one = np.array([0, 1])"
   ]
  },
  {
   "cell_type": "code",
   "execution_count": 3,
   "id": "59765045",
   "metadata": {},
   "outputs": [],
   "source": [
    "zero2 = np.kron(zero, zero)"
   ]
  },
  {
   "cell_type": "code",
   "execution_count": 4,
   "id": "cb7929d0",
   "metadata": {},
   "outputs": [
    {
     "data": {
      "text/plain": [
       "array([1, 0, 0, 0])"
      ]
     },
     "execution_count": 4,
     "metadata": {},
     "output_type": "execute_result"
    }
   ],
   "source": [
    "zero2"
   ]
  },
  {
   "cell_type": "code",
   "execution_count": 5,
   "id": "8425f14c",
   "metadata": {},
   "outputs": [
    {
     "data": {
      "text/plain": [
       "array([[1, 0],\n",
       "       [0, 0]])"
      ]
     },
     "execution_count": 5,
     "metadata": {},
     "output_type": "execute_result"
    }
   ],
   "source": [
    "np.outer(zero, zero)"
   ]
  },
  {
   "cell_type": "code",
   "execution_count": 6,
   "id": "60b7f8bf",
   "metadata": {},
   "outputs": [],
   "source": [
    "def zeron(n):\n",
    "    '''\n",
    "    Generate |00000...> state\n",
    "    '''\n",
    "    zero = np.array([1, 0])\n",
    "    return reduce(np.kron, [zero]*n)"
   ]
  },
  {
   "cell_type": "code",
   "execution_count": 7,
   "id": "9422f32d",
   "metadata": {},
   "outputs": [
    {
     "data": {
      "text/plain": [
       "array([[1, 0, 0, 0],\n",
       "       [0, 0, 0, 0],\n",
       "       [0, 0, 0, 0],\n",
       "       [0, 0, 0, 0]])"
      ]
     },
     "execution_count": 7,
     "metadata": {},
     "output_type": "execute_result"
    }
   ],
   "source": [
    "np.outer(zeron(2), zeron(2))"
   ]
  },
  {
   "cell_type": "code",
   "execution_count": 8,
   "id": "0b3d920c",
   "metadata": {},
   "outputs": [],
   "source": [
    "def bitState(bString):\n",
    "    '''\n",
    "    Generate bit string state\n",
    "    \n",
    "    Args\n",
    "    ----\n",
    "    bString : String of 0s and 1s describing state\n",
    "    '''\n",
    "    stateDict = {\n",
    "        '0' : np.array([1, 0]),\n",
    "        '1' : np.array([0, 1])\n",
    "    }\n",
    "\n",
    "    bArr = [stateDict[b] for b in bString]\n",
    "    return reduce(np.kron, bArr)\n",
    "\n",
    "def bitProjector(bString):\n",
    "    '''\n",
    "    Generate projector for given bitString state\n",
    "    '''\n",
    "    state = bitState(bString)\n",
    "    return np.outer(state, state)"
   ]
  },
  {
   "cell_type": "code",
   "execution_count": 9,
   "id": "0bcf21cd",
   "metadata": {},
   "outputs": [
    {
     "data": {
      "text/plain": [
       "array([0, 0, 1, 0])"
      ]
     },
     "execution_count": 9,
     "metadata": {},
     "output_type": "execute_result"
    }
   ],
   "source": [
    "bitState('10')"
   ]
  },
  {
   "cell_type": "code",
   "execution_count": 10,
   "id": "e05ef9bf",
   "metadata": {},
   "outputs": [
    {
     "data": {
      "text/plain": [
       "array([0, 1, 0, 0])"
      ]
     },
     "execution_count": 10,
     "metadata": {},
     "output_type": "execute_result"
    }
   ],
   "source": [
    "np.kron(zero, one)"
   ]
  },
  {
   "cell_type": "code",
   "execution_count": 11,
   "id": "a303ca6c",
   "metadata": {},
   "outputs": [
    {
     "data": {
      "text/plain": [
       "array([[0, 0, 0, 0],\n",
       "       [0, 0, 0, 0],\n",
       "       [0, 0, 1, 0],\n",
       "       [0, 0, 0, 0]])"
      ]
     },
     "execution_count": 11,
     "metadata": {},
     "output_type": "execute_result"
    }
   ],
   "source": [
    "bitProjector('10')"
   ]
  },
  {
   "cell_type": "markdown",
   "id": "8b6dce48",
   "metadata": {},
   "source": [
    "Generate random 4 qubit state. Trace out the first two qubits and project on the last two. "
   ]
  },
  {
   "cell_type": "code",
   "execution_count": 12,
   "id": "c07ce475",
   "metadata": {},
   "outputs": [],
   "source": [
    "nqubits = 4\n",
    "dim = 2**4\n",
    "phi = np.random.rand(dim) + 1j*np.random.rand(dim) # Generate a random state\n",
    "norm = np.linalg.norm(phi)\n",
    "phi = phi / norm # normalise state"
   ]
  },
  {
   "cell_type": "code",
   "execution_count": 13,
   "id": "4a079193",
   "metadata": {},
   "outputs": [
    {
     "data": {
      "text/plain": [
       "(1.0000000000000002+0j)"
      ]
     },
     "execution_count": 13,
     "metadata": {},
     "output_type": "execute_result"
    }
   ],
   "source": [
    "phi @ np.conj(phi)"
   ]
  },
  {
   "cell_type": "code",
   "execution_count": 14,
   "id": "4e5b6554",
   "metadata": {},
   "outputs": [],
   "source": [
    "import qiskit\n",
    "import qiskit.quantum_info as qi"
   ]
  },
  {
   "cell_type": "code",
   "execution_count": 15,
   "id": "905ba443",
   "metadata": {},
   "outputs": [],
   "source": [
    "state = qi.Statevector(bitState('10'))"
   ]
  },
  {
   "cell_type": "code",
   "execution_count": 16,
   "id": "e1c06f2f",
   "metadata": {},
   "outputs": [
    {
     "data": {
      "text/latex": [
       "$$ |10\\rangle$$"
      ],
      "text/plain": [
       "<IPython.core.display.Latex object>"
      ]
     },
     "execution_count": 16,
     "metadata": {},
     "output_type": "execute_result"
    }
   ],
   "source": [
    "state.draw(output='latex')"
   ]
  },
  {
   "cell_type": "code",
   "execution_count": 17,
   "id": "ad4c9af8",
   "metadata": {},
   "outputs": [],
   "source": [
    "dMatrix = qi.DensityMatrix(state)"
   ]
  },
  {
   "cell_type": "code",
   "execution_count": 18,
   "id": "84fde6ba",
   "metadata": {},
   "outputs": [
    {
     "name": "stdout",
     "output_type": "stream",
     "text": [
      "DensityMatrix([[0.+0.j, 0.+0.j, 0.+0.j, 0.+0.j],\n",
      "               [0.+0.j, 0.+0.j, 0.+0.j, 0.+0.j],\n",
      "               [0.+0.j, 0.+0.j, 1.+0.j, 0.+0.j],\n",
      "               [0.+0.j, 0.+0.j, 0.+0.j, 0.+0.j]],\n",
      "              dims=(2, 2))\n"
     ]
    }
   ],
   "source": [
    "dMatrix"
   ]
  },
  {
   "cell_type": "code",
   "execution_count": 19,
   "id": "667e0d74",
   "metadata": {},
   "outputs": [
    {
     "name": "stdout",
     "output_type": "stream",
     "text": [
      "DensityMatrix([[0.+0.j, 0.+0.j],\n",
      "               [0.+0.j, 1.+0.j]],\n",
      "              dims=(2,))\n"
     ]
    }
   ],
   "source": [
    "qi.partial_trace(dMatrix, [0])"
   ]
  },
  {
   "cell_type": "code",
   "execution_count": 20,
   "id": "4bb5376c",
   "metadata": {},
   "outputs": [
    {
     "name": "stdout",
     "output_type": "stream",
     "text": [
      "DensityMatrix([[0.+0.j, 0.+0.j],\n",
      "               [0.+0.j, 1.+0.j]],\n",
      "              dims=(2,))\n"
     ]
    }
   ],
   "source": [
    "qi.DensityMatrix(bitState('1'))"
   ]
  },
  {
   "cell_type": "code",
   "execution_count": 21,
   "id": "eb2ea36d",
   "metadata": {},
   "outputs": [],
   "source": [
    "def partialTrace(state, tracedInds):\n",
    "    \n",
    "    nqubits = int(np.log2(state.shape[0]))\n",
    "    state = state.reshape([2]*nqubits)\n",
    "    \n",
    "    traced = np.tensordot(state, state.conj(), [tracedInds, tracedInds])\n",
    "\n",
    "    nRemaining = len(traced.shape) // 2\n",
    "    return traced.reshape([2**nRemaining]*2)"
   ]
  },
  {
   "cell_type": "code",
   "execution_count": 22,
   "id": "58fd6c1d",
   "metadata": {},
   "outputs": [
    {
     "data": {
      "text/plain": [
       "array([[1, 0],\n",
       "       [0, 0]])"
      ]
     },
     "execution_count": 22,
     "metadata": {},
     "output_type": "execute_result"
    }
   ],
   "source": [
    "partialTrace(bitState('10'), [0])"
   ]
  },
  {
   "cell_type": "markdown",
   "id": "c8286abd",
   "metadata": {},
   "source": [
    "Verifying the behaviour of the projector"
   ]
  },
  {
   "cell_type": "code",
   "execution_count": 23,
   "id": "50dc1310",
   "metadata": {},
   "outputs": [],
   "source": [
    "state = np.random.randn(4) + 1j*np.random.rand(4)\n",
    "state = state / np.linalg.norm(state)"
   ]
  },
  {
   "cell_type": "code",
   "execution_count": 24,
   "id": "01ea1e7f",
   "metadata": {},
   "outputs": [],
   "source": [
    "phi = np.outer(state, state)"
   ]
  },
  {
   "cell_type": "code",
   "execution_count": 25,
   "id": "4075a0f8",
   "metadata": {},
   "outputs": [
    {
     "data": {
      "text/plain": [
       "array([[ 0.14806355-0.23571412j, -0.06187917+0.01995396j,\n",
       "         0.28973013-0.29702845j, -0.14885483-0.04817723j],\n",
       "       [-0.06187917+0.01995396j,  0.0140684 +0.00571817j,\n",
       "        -0.09643397+0.00965996j,  0.01940502+0.03096617j],\n",
       "       [ 0.28973013-0.29702845j, -0.09643397+0.00965996j,\n",
       "         0.51541189-0.34192294j, -0.20179837-0.11691602j],\n",
       "       [-0.14885483-0.04817723j,  0.01940502+0.03096617j,\n",
       "        -0.20179837-0.11691602j, -0.00572651+0.08775292j]])"
      ]
     },
     "execution_count": 25,
     "metadata": {},
     "output_type": "execute_result"
    }
   ],
   "source": [
    "phi"
   ]
  },
  {
   "cell_type": "code",
   "execution_count": 26,
   "id": "e492034c",
   "metadata": {},
   "outputs": [],
   "source": [
    "proj = bitProjector('00')"
   ]
  },
  {
   "cell_type": "code",
   "execution_count": 27,
   "id": "f3a5fdfd",
   "metadata": {},
   "outputs": [
    {
     "data": {
      "text/plain": [
       "array([[1, 0, 0, 0],\n",
       "       [0, 0, 0, 0],\n",
       "       [0, 0, 0, 0],\n",
       "       [0, 0, 0, 0]])"
      ]
     },
     "execution_count": 27,
     "metadata": {},
     "output_type": "execute_result"
    }
   ],
   "source": [
    "proj"
   ]
  },
  {
   "cell_type": "code",
   "execution_count": 28,
   "id": "5ea819e5",
   "metadata": {},
   "outputs": [
    {
     "data": {
      "text/plain": [
       "(0.1480635466057828-0.2357141193358807j)"
      ]
     },
     "execution_count": 28,
     "metadata": {},
     "output_type": "execute_result"
    }
   ],
   "source": [
    "np.trace(proj @ phi)"
   ]
  },
  {
   "cell_type": "code",
   "execution_count": 29,
   "id": "575fbab6",
   "metadata": {},
   "outputs": [
    {
     "data": {
      "text/plain": [
       "array([[ 0.14806355-0.23571412j, -0.06187917+0.01995396j,\n",
       "         0.28973013-0.29702845j, -0.14885483-0.04817723j],\n",
       "       [ 0.        +0.j        ,  0.        +0.j        ,\n",
       "         0.        +0.j        ,  0.        +0.j        ],\n",
       "       [ 0.        +0.j        ,  0.        +0.j        ,\n",
       "         0.        +0.j        ,  0.        +0.j        ],\n",
       "       [ 0.        +0.j        ,  0.        +0.j        ,\n",
       "         0.        +0.j        ,  0.        +0.j        ]])"
      ]
     },
     "execution_count": 29,
     "metadata": {},
     "output_type": "execute_result"
    }
   ],
   "source": [
    "proj @ phi"
   ]
  },
  {
   "cell_type": "code",
   "execution_count": 30,
   "id": "0911077b",
   "metadata": {},
   "outputs": [
    {
     "data": {
      "text/plain": [
       "'00100'"
      ]
     },
     "execution_count": 30,
     "metadata": {},
     "output_type": "execute_result"
    }
   ],
   "source": [
    "bin(4)[2:].zfill(5)"
   ]
  },
  {
   "cell_type": "code",
   "execution_count": 31,
   "id": "ab670f3a",
   "metadata": {},
   "outputs": [
    {
     "name": "stdout",
     "output_type": "stream",
     "text": [
      "0000\n",
      "[[0 0]]\n",
      "0001\n",
      "[[1 1]]\n",
      "0010\n",
      "[[2 2]]\n",
      "0011\n",
      "[[3 3]]\n",
      "0100\n",
      "[[4 4]]\n",
      "0101\n",
      "[[5 5]]\n",
      "0110\n",
      "[[6 6]]\n",
      "0111\n",
      "[[7 7]]\n",
      "1000\n",
      "[[8 8]]\n",
      "1001\n",
      "[[9 9]]\n"
     ]
    }
   ],
   "source": [
    "bstrings = [bin(i)[2:].zfill(4) for i in range(10)]\n",
    "\n",
    "for b in bstrings:\n",
    "    print(b)\n",
    "    print(np.argwhere(bitProjector(b)))"
   ]
  },
  {
   "cell_type": "markdown",
   "id": "6386c797",
   "metadata": {},
   "source": [
    "Verify efficient calculation of projection"
   ]
  },
  {
   "cell_type": "code",
   "execution_count": 32,
   "id": "762c6b3d",
   "metadata": {},
   "outputs": [],
   "source": [
    "nQb = 4\n",
    "phi = np.random.randn(2**nQb) + 1j*np.random.randn(2**nQb) \n",
    "phi = phi / np.linalg.norm(phi)\n",
    "\n",
    "rho = np.outer(phi.conj(), phi)"
   ]
  },
  {
   "cell_type": "code",
   "execution_count": 33,
   "id": "8e6aa900",
   "metadata": {},
   "outputs": [],
   "source": [
    "def projectDensity(dMatrix, bString):\n",
    "    #dim = dMatrix.shape[0]\n",
    "    #assert 2**len(bString) == dim\n",
    "    i = int(bString, 2)\n",
    "    return dMatrix[i, i]"
   ]
  },
  {
   "cell_type": "code",
   "execution_count": 34,
   "id": "a54463e0",
   "metadata": {},
   "outputs": [
    {
     "data": {
      "text/plain": [
       "(16, 16)"
      ]
     },
     "execution_count": 34,
     "metadata": {},
     "output_type": "execute_result"
    }
   ],
   "source": [
    "rho.shape"
   ]
  },
  {
   "cell_type": "code",
   "execution_count": 35,
   "id": "86e88860",
   "metadata": {},
   "outputs": [
    {
     "name": "stdout",
     "output_type": "stream",
     "text": [
      "0000\n",
      "(16, 16)\n",
      "True\n",
      "\n",
      "0001\n",
      "(16, 16)\n",
      "True\n",
      "\n",
      "0101\n",
      "(16, 16)\n",
      "True\n",
      "\n",
      "1000\n",
      "(16, 16)\n",
      "True\n",
      "\n"
     ]
    }
   ],
   "source": [
    "bStrings = ['0000', '0001', '0101', '1000']\n",
    "for b in bStrings:\n",
    "    print(b)\n",
    "    projector = bitProjector(b)\n",
    "    print(projector.shape)\n",
    "    projDirect = np.trace(bitProjector(b) @ rho)\n",
    "    projLookup = projectDensity(rho, b)\n",
    "    print(np.allclose(projDirect, projLookup))\n",
    "    print()"
   ]
  },
  {
   "cell_type": "code",
   "execution_count": 36,
   "id": "bc3d8fd8",
   "metadata": {},
   "outputs": [],
   "source": [
    "bStrings = ['0000', '0001', '0101', '1000']\n",
    "projs = np.zeros(len(bStrings))"
   ]
  },
  {
   "cell_type": "code",
   "execution_count": 37,
   "id": "3999ddc7",
   "metadata": {},
   "outputs": [
    {
     "name": "stdout",
     "output_type": "stream",
     "text": [
      "616 µs ± 53.4 µs per loop (mean ± std. dev. of 7 runs, 1,000 loops each)\n"
     ]
    }
   ],
   "source": [
    "%%timeit\n",
    "for i, b in enumerate(bStrings):\n",
    "    projector = bitProjector(b)\n",
    "    projDirect = np.real(np.trace(bitProjector(b) @ rho))\n",
    "    projs[i] = projDirect"
   ]
  },
  {
   "cell_type": "code",
   "execution_count": 38,
   "id": "5823501d",
   "metadata": {},
   "outputs": [],
   "source": [
    "bStrings = ['0000', '0001', '0101', '1000']\n",
    "projs = np.zeros(len(bStrings))"
   ]
  },
  {
   "cell_type": "code",
   "execution_count": 39,
   "id": "a0fc603c",
   "metadata": {},
   "outputs": [
    {
     "name": "stdout",
     "output_type": "stream",
     "text": [
      "4.29 µs ± 171 ns per loop (mean ± std. dev. of 7 runs, 100,000 loops each)\n"
     ]
    }
   ],
   "source": [
    "%%timeit\n",
    "for i, b in enumerate(bStrings):\n",
    "    projLookup = projectDensity(rho, b)\n",
    "    projs[i] = np.real(projLookup)"
   ]
  },
  {
   "cell_type": "code",
   "execution_count": 40,
   "id": "a0c39b10",
   "metadata": {},
   "outputs": [],
   "source": [
    "bStrings = ['0000', '0001', '0101', '1000']\n",
    "projs = np.zeros(len(bStrings))"
   ]
  },
  {
   "cell_type": "code",
   "execution_count": 41,
   "id": "5239b0b0",
   "metadata": {},
   "outputs": [
    {
     "name": "stdout",
     "output_type": "stream",
     "text": [
      "4.27 µs ± 186 ns per loop (mean ± std. dev. of 7 runs, 100,000 loops each)\n"
     ]
    }
   ],
   "source": [
    "%%timeit\n",
    "for i, b in enumerate(bStrings):\n",
    "    projLookup = projectDensity(rho, b)\n",
    "    projs[i] = np.real(projLookup)"
   ]
  },
  {
   "cell_type": "markdown",
   "id": "0742e75c",
   "metadata": {},
   "source": [
    "Now finding an efficent way to calculate $dOdV$"
   ]
  },
  {
   "cell_type": "code",
   "execution_count": 42,
   "id": "9881e4ba",
   "metadata": {},
   "outputs": [],
   "source": [
    "nQb = 4\n",
    "state = np.arange(2**nQb)"
   ]
  },
  {
   "cell_type": "code",
   "execution_count": 43,
   "id": "e151fc70",
   "metadata": {},
   "outputs": [
    {
     "data": {
      "text/plain": [
       "array([ 0,  1,  2,  3,  4,  5,  6,  7,  8,  9, 10, 11, 12, 13, 14, 15])"
      ]
     },
     "execution_count": 43,
     "metadata": {},
     "output_type": "execute_result"
    }
   ],
   "source": [
    "state"
   ]
  },
  {
   "cell_type": "code",
   "execution_count": 44,
   "id": "3c10255d",
   "metadata": {},
   "outputs": [
    {
     "name": "stdout",
     "output_type": "stream",
     "text": [
      "0000\n",
      "0\n",
      "[0 0 0 0 0 0 0 0 0 0 0 0 0 0 0 0]\n",
      "[]\n",
      "0001\n",
      "1\n",
      "[0 1 0 0 0 0 0 0 0 0 0 0 0 0 0 0]\n",
      "[[1]]\n",
      "0101\n",
      "5\n",
      "[0 0 0 0 0 5 0 0 0 0 0 0 0 0 0 0]\n",
      "[[5]]\n",
      "1000\n",
      "8\n",
      "[0 0 0 0 0 0 0 0 8 0 0 0 0 0 0 0]\n",
      "[[8]]\n"
     ]
    }
   ],
   "source": [
    "bStrings = ['0000', '0001', '0101', '1000']\n",
    "\n",
    "for b in bStrings:\n",
    "    print(b)\n",
    "    print(int(b, 2))\n",
    "    \n",
    "    proj = bitProjector(b) @ state\n",
    "    print(proj)\n",
    "    print(np.argwhere(proj))"
   ]
  },
  {
   "cell_type": "code",
   "execution_count": 45,
   "id": "07700e85",
   "metadata": {},
   "outputs": [],
   "source": [
    "U = np.arange(2**(nQb*2)).reshape(2**nQb, -1)"
   ]
  },
  {
   "cell_type": "code",
   "execution_count": 46,
   "id": "1cf07e40",
   "metadata": {},
   "outputs": [
    {
     "data": {
      "text/plain": [
       "array([[  0,   1,   2,   3,   4,   5,   6,   7,   8,   9,  10,  11,  12,\n",
       "         13,  14,  15],\n",
       "       [ 16,  17,  18,  19,  20,  21,  22,  23,  24,  25,  26,  27,  28,\n",
       "         29,  30,  31],\n",
       "       [ 32,  33,  34,  35,  36,  37,  38,  39,  40,  41,  42,  43,  44,\n",
       "         45,  46,  47],\n",
       "       [ 48,  49,  50,  51,  52,  53,  54,  55,  56,  57,  58,  59,  60,\n",
       "         61,  62,  63],\n",
       "       [ 64,  65,  66,  67,  68,  69,  70,  71,  72,  73,  74,  75,  76,\n",
       "         77,  78,  79],\n",
       "       [ 80,  81,  82,  83,  84,  85,  86,  87,  88,  89,  90,  91,  92,\n",
       "         93,  94,  95],\n",
       "       [ 96,  97,  98,  99, 100, 101, 102, 103, 104, 105, 106, 107, 108,\n",
       "        109, 110, 111],\n",
       "       [112, 113, 114, 115, 116, 117, 118, 119, 120, 121, 122, 123, 124,\n",
       "        125, 126, 127],\n",
       "       [128, 129, 130, 131, 132, 133, 134, 135, 136, 137, 138, 139, 140,\n",
       "        141, 142, 143],\n",
       "       [144, 145, 146, 147, 148, 149, 150, 151, 152, 153, 154, 155, 156,\n",
       "        157, 158, 159],\n",
       "       [160, 161, 162, 163, 164, 165, 166, 167, 168, 169, 170, 171, 172,\n",
       "        173, 174, 175],\n",
       "       [176, 177, 178, 179, 180, 181, 182, 183, 184, 185, 186, 187, 188,\n",
       "        189, 190, 191],\n",
       "       [192, 193, 194, 195, 196, 197, 198, 199, 200, 201, 202, 203, 204,\n",
       "        205, 206, 207],\n",
       "       [208, 209, 210, 211, 212, 213, 214, 215, 216, 217, 218, 219, 220,\n",
       "        221, 222, 223],\n",
       "       [224, 225, 226, 227, 228, 229, 230, 231, 232, 233, 234, 235, 236,\n",
       "        237, 238, 239],\n",
       "       [240, 241, 242, 243, 244, 245, 246, 247, 248, 249, 250, 251, 252,\n",
       "        253, 254, 255]])"
      ]
     },
     "execution_count": 46,
     "metadata": {},
     "output_type": "execute_result"
    }
   ],
   "source": [
    "U"
   ]
  },
  {
   "cell_type": "code",
   "execution_count": 47,
   "id": "c69730ff",
   "metadata": {},
   "outputs": [
    {
     "data": {
      "text/plain": [
       "array([[ 0,  1,  2,  3,  4,  5,  6,  7,  8,  9, 10, 11, 12, 13, 14, 15],\n",
       "       [ 0,  0,  0,  0,  0,  0,  0,  0,  0,  0,  0,  0,  0,  0,  0,  0],\n",
       "       [ 0,  0,  0,  0,  0,  0,  0,  0,  0,  0,  0,  0,  0,  0,  0,  0],\n",
       "       [ 0,  0,  0,  0,  0,  0,  0,  0,  0,  0,  0,  0,  0,  0,  0,  0],\n",
       "       [ 0,  0,  0,  0,  0,  0,  0,  0,  0,  0,  0,  0,  0,  0,  0,  0],\n",
       "       [ 0,  0,  0,  0,  0,  0,  0,  0,  0,  0,  0,  0,  0,  0,  0,  0],\n",
       "       [ 0,  0,  0,  0,  0,  0,  0,  0,  0,  0,  0,  0,  0,  0,  0,  0],\n",
       "       [ 0,  0,  0,  0,  0,  0,  0,  0,  0,  0,  0,  0,  0,  0,  0,  0],\n",
       "       [ 0,  0,  0,  0,  0,  0,  0,  0,  0,  0,  0,  0,  0,  0,  0,  0],\n",
       "       [ 0,  0,  0,  0,  0,  0,  0,  0,  0,  0,  0,  0,  0,  0,  0,  0],\n",
       "       [ 0,  0,  0,  0,  0,  0,  0,  0,  0,  0,  0,  0,  0,  0,  0,  0],\n",
       "       [ 0,  0,  0,  0,  0,  0,  0,  0,  0,  0,  0,  0,  0,  0,  0,  0],\n",
       "       [ 0,  0,  0,  0,  0,  0,  0,  0,  0,  0,  0,  0,  0,  0,  0,  0],\n",
       "       [ 0,  0,  0,  0,  0,  0,  0,  0,  0,  0,  0,  0,  0,  0,  0,  0],\n",
       "       [ 0,  0,  0,  0,  0,  0,  0,  0,  0,  0,  0,  0,  0,  0,  0,  0],\n",
       "       [ 0,  0,  0,  0,  0,  0,  0,  0,  0,  0,  0,  0,  0,  0,  0,  0]])"
      ]
     },
     "execution_count": 47,
     "metadata": {},
     "output_type": "execute_result"
    }
   ],
   "source": [
    "bitProjector('0000') @ U"
   ]
  },
  {
   "cell_type": "code",
   "execution_count": 48,
   "id": "1fc63eca",
   "metadata": {},
   "outputs": [
    {
     "data": {
      "text/plain": [
       "array([1240,    0,    0,    0,    0,    0,    0,    0,    0,    0,    0,\n",
       "          0,    0,    0,    0,    0])"
      ]
     },
     "execution_count": 48,
     "metadata": {},
     "output_type": "execute_result"
    }
   ],
   "source": [
    "bitProjector('0000') @ U @ state"
   ]
  },
  {
   "cell_type": "code",
   "execution_count": 49,
   "id": "0b37882b",
   "metadata": {},
   "outputs": [],
   "source": [
    "def PV_state(bitString, V, phi):\n",
    "    i = int(bitString, 2)\n",
    "    Vrow = V[i, :]\n",
    "    out = np.zeros(phi.shape)\n",
    "    out[i] = np.dot(Vrow, phi)\n",
    "    return out"
   ]
  },
  {
   "cell_type": "code",
   "execution_count": 50,
   "id": "eff2629f",
   "metadata": {},
   "outputs": [
    {
     "data": {
      "text/plain": [
       "array([1240.,    0.,    0.,    0.,    0.,    0.,    0.,    0.,    0.,\n",
       "          0.,    0.,    0.,    0.,    0.,    0.,    0.])"
      ]
     },
     "execution_count": 50,
     "metadata": {},
     "output_type": "execute_result"
    }
   ],
   "source": [
    "PV_state('0000', U, state)"
   ]
  },
  {
   "cell_type": "code",
   "execution_count": 51,
   "id": "7cd2a5d9",
   "metadata": {},
   "outputs": [
    {
     "data": {
      "text/plain": [
       "array([ 0,  1,  2,  3,  4,  5,  6,  7,  8,  9, 10, 11, 12, 13, 14, 15])"
      ]
     },
     "execution_count": 51,
     "metadata": {},
     "output_type": "execute_result"
    }
   ],
   "source": [
    "state"
   ]
  },
  {
   "cell_type": "code",
   "execution_count": 52,
   "id": "268e679c",
   "metadata": {},
   "outputs": [],
   "source": [
    "state_bit = np.zeros(state.shape)\n",
    "state_bit[0] = 2"
   ]
  },
  {
   "cell_type": "code",
   "execution_count": 53,
   "id": "59aedf11",
   "metadata": {},
   "outputs": [
    {
     "data": {
      "text/plain": [
       "array([2., 0., 0., 0., 0., 0., 0., 0., 0., 0., 0., 0., 0., 0., 0., 0.])"
      ]
     },
     "execution_count": 53,
     "metadata": {},
     "output_type": "execute_result"
    }
   ],
   "source": [
    "state_bit"
   ]
  },
  {
   "cell_type": "code",
   "execution_count": 54,
   "id": "775ce050",
   "metadata": {},
   "outputs": [
    {
     "data": {
      "text/plain": [
       "array([[ 0.,  2.,  4.,  6.,  8., 10., 12., 14., 16., 18., 20., 22., 24.,\n",
       "        26., 28., 30.],\n",
       "       [ 0.,  0.,  0.,  0.,  0.,  0.,  0.,  0.,  0.,  0.,  0.,  0.,  0.,\n",
       "         0.,  0.,  0.],\n",
       "       [ 0.,  0.,  0.,  0.,  0.,  0.,  0.,  0.,  0.,  0.,  0.,  0.,  0.,\n",
       "         0.,  0.,  0.],\n",
       "       [ 0.,  0.,  0.,  0.,  0.,  0.,  0.,  0.,  0.,  0.,  0.,  0.,  0.,\n",
       "         0.,  0.,  0.],\n",
       "       [ 0.,  0.,  0.,  0.,  0.,  0.,  0.,  0.,  0.,  0.,  0.,  0.,  0.,\n",
       "         0.,  0.,  0.],\n",
       "       [ 0.,  0.,  0.,  0.,  0.,  0.,  0.,  0.,  0.,  0.,  0.,  0.,  0.,\n",
       "         0.,  0.,  0.],\n",
       "       [ 0.,  0.,  0.,  0.,  0.,  0.,  0.,  0.,  0.,  0.,  0.,  0.,  0.,\n",
       "         0.,  0.,  0.],\n",
       "       [ 0.,  0.,  0.,  0.,  0.,  0.,  0.,  0.,  0.,  0.,  0.,  0.,  0.,\n",
       "         0.,  0.,  0.],\n",
       "       [ 0.,  0.,  0.,  0.,  0.,  0.,  0.,  0.,  0.,  0.,  0.,  0.,  0.,\n",
       "         0.,  0.,  0.],\n",
       "       [ 0.,  0.,  0.,  0.,  0.,  0.,  0.,  0.,  0.,  0.,  0.,  0.,  0.,\n",
       "         0.,  0.,  0.],\n",
       "       [ 0.,  0.,  0.,  0.,  0.,  0.,  0.,  0.,  0.,  0.,  0.,  0.,  0.,\n",
       "         0.,  0.,  0.],\n",
       "       [ 0.,  0.,  0.,  0.,  0.,  0.,  0.,  0.,  0.,  0.,  0.,  0.,  0.,\n",
       "         0.,  0.,  0.],\n",
       "       [ 0.,  0.,  0.,  0.,  0.,  0.,  0.,  0.,  0.,  0.,  0.,  0.,  0.,\n",
       "         0.,  0.,  0.],\n",
       "       [ 0.,  0.,  0.,  0.,  0.,  0.,  0.,  0.,  0.,  0.,  0.,  0.,  0.,\n",
       "         0.,  0.,  0.],\n",
       "       [ 0.,  0.,  0.,  0.,  0.,  0.,  0.,  0.,  0.,  0.,  0.,  0.,  0.,\n",
       "         0.,  0.,  0.],\n",
       "       [ 0.,  0.,  0.,  0.,  0.,  0.,  0.,  0.,  0.,  0.,  0.,  0.,  0.,\n",
       "         0.,  0.,  0.]])"
      ]
     },
     "execution_count": 54,
     "metadata": {},
     "output_type": "execute_result"
    }
   ],
   "source": [
    "np.outer(state_bit, state)"
   ]
  },
  {
   "cell_type": "markdown",
   "id": "c393dd25",
   "metadata": {},
   "source": [
    "Putting this together with the outer produce we can efficiently calculate dOdV"
   ]
  },
  {
   "cell_type": "code",
   "execution_count": 55,
   "id": "d5f29a70",
   "metadata": {},
   "outputs": [],
   "source": [
    "def dOdV_efficient(bitString, V, state):\n",
    "    i = int(bitString, 2)\n",
    "    s = np.dot(V[i, :], state)\n",
    "    out = np.zeros((state.shape[0], state.shape[0]), dtype=complex)\n",
    "    out[i, :] = s*state.conj()\n",
    "    return out"
   ]
  },
  {
   "cell_type": "code",
   "execution_count": 56,
   "id": "3907f7df",
   "metadata": {},
   "outputs": [],
   "source": [
    "def dOdV_direct(bitString, V, state):\n",
    "    P = bitProjector(bitString)\n",
    "    PVstate = P @ V @ state\n",
    "    return np.outer(PVstate, state.conj())"
   ]
  },
  {
   "cell_type": "code",
   "execution_count": 57,
   "id": "136f85d4",
   "metadata": {},
   "outputs": [],
   "source": [
    "nQb = 4\n",
    "U = np.random.randn(2**nQb, 2**nQb) + 1j*np.random.randn(2**nQb, 2**nQb)\n",
    "state = np.random.randn(2**nQb) + 1j*np.random.randn(2**nQb)"
   ]
  },
  {
   "cell_type": "code",
   "execution_count": 58,
   "id": "62a72b92",
   "metadata": {},
   "outputs": [
    {
     "name": "stdout",
     "output_type": "stream",
     "text": [
      "0000\n",
      "True\n",
      "0101\n",
      "True\n",
      "0011\n",
      "True\n",
      "1000\n",
      "True\n",
      "1100\n",
      "True\n"
     ]
    }
   ],
   "source": [
    "bitStrings = ['0000', '0101', '0011', '1000', '1100']\n",
    "for b in bitStrings:\n",
    "    print(b)\n",
    "    direct = dOdV_direct(b, U, state)\n",
    "    efficient = dOdV_efficient(b, U, state)\n",
    "    print(np.allclose(direct, efficient))"
   ]
  },
  {
   "cell_type": "code",
   "execution_count": 59,
   "id": "0ee08937",
   "metadata": {},
   "outputs": [
    {
     "name": "stdout",
     "output_type": "stream",
     "text": [
      "417 µs ± 11.3 µs per loop (mean ± std. dev. of 7 runs, 1,000 loops each)\n"
     ]
    }
   ],
   "source": [
    "%%timeit\n",
    "for b in bitStrings:\n",
    "    direct = dOdV_direct(b, U, state)"
   ]
  },
  {
   "cell_type": "code",
   "execution_count": 60,
   "id": "b0cb0531",
   "metadata": {},
   "outputs": [
    {
     "name": "stdout",
     "output_type": "stream",
     "text": [
      "23.4 µs ± 657 ns per loop (mean ± std. dev. of 7 runs, 10,000 loops each)\n"
     ]
    }
   ],
   "source": [
    "%%timeit\n",
    "for b in bitStrings:\n",
    "    efficient = dOdV_efficient(b, U, state)"
   ]
  },
  {
   "cell_type": "markdown",
   "id": "c2ffe917",
   "metadata": {},
   "source": [
    "$$\\require{physics}$$\n",
    "\n",
    "Checking if we can efficiently calculate $<\\phi | V^\\dagger P_i | V | \\phi>$ using $s = V_i \\cdot |\\phi>$ and $s^*s$"
   ]
  },
  {
   "cell_type": "code",
   "execution_count": 61,
   "id": "da545578",
   "metadata": {},
   "outputs": [],
   "source": [
    "nQb = 4\n",
    "V = np.random.randn(2**nQb, 2**nQb) + 1j*np.random.randn(2**nQb, 2**nQb)\n",
    "state = np.random.randn(2**nQb) + 1j*np.random.randn(2**nQb)"
   ]
  },
  {
   "cell_type": "code",
   "execution_count": 67,
   "id": "e100fdba",
   "metadata": {},
   "outputs": [],
   "source": [
    "def overlapEfficient(bitString, V, state):\n",
    "    i = int(bitString, 2)\n",
    "    s = np.dot(V[i, :], state)\n",
    "    return s.conj()*s"
   ]
  },
  {
   "cell_type": "code",
   "execution_count": 68,
   "id": "56f3f26b",
   "metadata": {},
   "outputs": [],
   "source": [
    "def overlapDirect(bitString, V, state):\n",
    "    proj = bitProjector(b)\n",
    "    return state.conj() @ V.conj().T @ proj @ V @ state"
   ]
  },
  {
   "cell_type": "code",
   "execution_count": 70,
   "id": "0dd56d4e",
   "metadata": {},
   "outputs": [
    {
     "name": "stdout",
     "output_type": "stream",
     "text": [
      "0000\n",
      "True\n",
      "\n",
      "0010\n",
      "True\n",
      "\n",
      "0100\n",
      "True\n",
      "\n",
      "1011\n",
      "True\n",
      "\n"
     ]
    }
   ],
   "source": [
    "bitStrings = ['0000', '0010', '0100', '1011']\n",
    "for b in bitStrings:\n",
    "    oEff = overlapEfficient(b, V, state)\n",
    "    oDir = overlapDirect(b, V, state)\n",
    "    print(b)\n",
    "    print(np.allclose(oEff, oDir))\n",
    "    print()"
   ]
  },
  {
   "cell_type": "code",
   "execution_count": 71,
   "id": "ede1a615",
   "metadata": {},
   "outputs": [
    {
     "name": "stdout",
     "output_type": "stream",
     "text": [
      "316 µs ± 17.8 µs per loop (mean ± std. dev. of 7 runs, 1,000 loops each)\n"
     ]
    }
   ],
   "source": [
    "%%timeit\n",
    "for b in bitStrings:\n",
    "    oDir = overlapDirect(b, V, state)"
   ]
  },
  {
   "cell_type": "code",
   "execution_count": 73,
   "id": "bc31cece",
   "metadata": {},
   "outputs": [
    {
     "name": "stdout",
     "output_type": "stream",
     "text": [
      "9.53 µs ± 83.5 ns per loop (mean ± std. dev. of 7 runs, 100,000 loops each)\n"
     ]
    }
   ],
   "source": [
    "%%timeit\n",
    "for b in bitStrings:\n",
    "    oEff = overlapEfficient(b, V, state)"
   ]
  },
  {
   "cell_type": "markdown",
   "id": "df420a9c",
   "metadata": {},
   "source": [
    "Figuring out the effects of trace projections"
   ]
  },
  {
   "cell_type": "code",
   "execution_count": 97,
   "id": "70ea216d",
   "metadata": {},
   "outputs": [],
   "source": [
    "nQb = 3\n",
    "dims = [2]*(nQb)\n",
    "\n",
    "state = np.arange(2**(nQb))"
   ]
  },
  {
   "cell_type": "code",
   "execution_count": 98,
   "id": "d120bd97",
   "metadata": {},
   "outputs": [],
   "source": [
    "state = state.reshape(*dims)"
   ]
  },
  {
   "cell_type": "code",
   "execution_count": 99,
   "id": "fdeaabf9",
   "metadata": {},
   "outputs": [
    {
     "data": {
      "text/plain": [
       "array([[[0, 1],\n",
       "        [2, 3]],\n",
       "\n",
       "       [[4, 5],\n",
       "        [6, 7]]])"
      ]
     },
     "execution_count": 99,
     "metadata": {},
     "output_type": "execute_result"
    }
   ],
   "source": [
    "state"
   ]
  },
  {
   "cell_type": "code",
   "execution_count": 100,
   "id": "391cc9f0",
   "metadata": {},
   "outputs": [
    {
     "data": {
      "text/plain": [
       "(2, 2, 2)"
      ]
     },
     "execution_count": 100,
     "metadata": {},
     "output_type": "execute_result"
    }
   ],
   "source": [
    "state.shape"
   ]
  },
  {
   "cell_type": "code",
   "execution_count": 106,
   "id": "8853c33b",
   "metadata": {},
   "outputs": [],
   "source": [
    "out = partialTrace(state.reshape(-1), [0, 1])"
   ]
  },
  {
   "cell_type": "code",
   "execution_count": 107,
   "id": "b005fae1",
   "metadata": {},
   "outputs": [
    {
     "data": {
      "text/plain": [
       "(8,)"
      ]
     },
     "execution_count": 107,
     "metadata": {},
     "output_type": "execute_result"
    }
   ],
   "source": [
    "state.reshape(-1).shape"
   ]
  },
  {
   "cell_type": "code",
   "execution_count": 108,
   "id": "61e3defb",
   "metadata": {},
   "outputs": [
    {
     "data": {
      "text/plain": [
       "(2, 2)"
      ]
     },
     "execution_count": 108,
     "metadata": {},
     "output_type": "execute_result"
    }
   ],
   "source": [
    "out.shape"
   ]
  },
  {
   "cell_type": "code",
   "execution_count": 109,
   "id": "593fe357",
   "metadata": {},
   "outputs": [
    {
     "data": {
      "text/plain": [
       "array([[56, 68],\n",
       "       [68, 84]])"
      ]
     },
     "execution_count": 109,
     "metadata": {},
     "output_type": "execute_result"
    }
   ],
   "source": [
    "out"
   ]
  },
  {
   "cell_type": "code",
   "execution_count": 111,
   "id": "0105e2cd",
   "metadata": {},
   "outputs": [
    {
     "data": {
      "text/plain": [
       "56"
      ]
     },
     "execution_count": 111,
     "metadata": {},
     "output_type": "execute_result"
    }
   ],
   "source": [
    "np.dot(state[:, :, 0].reshape(-1), state[:, :, 0].reshape(-1))"
   ]
  },
  {
   "cell_type": "code",
   "execution_count": 113,
   "id": "d0eb662c",
   "metadata": {},
   "outputs": [
    {
     "data": {
      "text/plain": [
       "68"
      ]
     },
     "execution_count": 113,
     "metadata": {},
     "output_type": "execute_result"
    }
   ],
   "source": [
    "np.dot(state[:, :, 0].reshape(-1), state[:, :, 1].reshape(-1))"
   ]
  },
  {
   "cell_type": "code",
   "execution_count": 96,
   "id": "a3d3652e",
   "metadata": {},
   "outputs": [
    {
     "data": {
      "text/plain": [
       "10"
      ]
     },
     "execution_count": 96,
     "metadata": {},
     "output_type": "execute_result"
    }
   ],
   "source": [
    "np.dot(state[:, 1], state[:, 1])"
   ]
  },
  {
   "cell_type": "code",
   "execution_count": 93,
   "id": "529d5857",
   "metadata": {},
   "outputs": [
    {
     "data": {
      "text/plain": [
       "10"
      ]
     },
     "execution_count": 93,
     "metadata": {},
     "output_type": "execute_result"
    }
   ],
   "source": [
    "np.dot(state[:, 1], state[:, 1])"
   ]
  },
  {
   "cell_type": "code",
   "execution_count": 114,
   "id": "442ced5d",
   "metadata": {},
   "outputs": [
    {
     "data": {
      "text/plain": [
       "True"
      ]
     },
     "execution_count": 114,
     "metadata": {},
     "output_type": "execute_result"
    }
   ],
   "source": [
    "np.allclose(state[:, :, 0], state.take(indices=0, axis=2))"
   ]
  },
  {
   "cell_type": "code",
   "execution_count": 116,
   "id": "5d42bd93",
   "metadata": {},
   "outputs": [
    {
     "data": {
      "text/plain": [
       "True"
      ]
     },
     "execution_count": 116,
     "metadata": {},
     "output_type": "execute_result"
    }
   ],
   "source": [
    "np.allclose(state[slice(None), slice(None), 0], state.take(indices=0, axis=2))"
   ]
  },
  {
   "cell_type": "code",
   "execution_count": 117,
   "id": "fb63cee2",
   "metadata": {},
   "outputs": [
    {
     "name": "stdout",
     "output_type": "stream",
     "text": [
      "308 ns ± 9.88 ns per loop (mean ± std. dev. of 7 runs, 1,000,000 loops each)\n"
     ]
    }
   ],
   "source": [
    "%%timeit\n",
    "state[slice(None), slice(None), 0]"
   ]
  },
  {
   "cell_type": "code",
   "execution_count": 118,
   "id": "55cefe8a",
   "metadata": {},
   "outputs": [
    {
     "name": "stdout",
     "output_type": "stream",
     "text": [
      "472 ns ± 10.2 ns per loop (mean ± std. dev. of 7 runs, 1,000,000 loops each)\n"
     ]
    }
   ],
   "source": [
    "%%timeit\n",
    "state.take(indices=0, axis=2)"
   ]
  },
  {
   "cell_type": "code",
   "execution_count": 126,
   "id": "70f05f99",
   "metadata": {},
   "outputs": [],
   "source": [
    "def tracedProjEfficient(state, ind, tracedDim):\n",
    "        state = state.reshape(tracedDim, -1)\n",
    "        s = state[:, ind].reshape(-1)\n",
    "        return np.dot(s,  s.conj())"
   ]
  },
  {
   "cell_type": "code",
   "execution_count": 163,
   "id": "41a27144",
   "metadata": {},
   "outputs": [],
   "source": [
    "def tracedProjEfficientv2(state, inds, tracedDim):\n",
    "        state = state.reshape(tracedDim, -1)\n",
    "        s = state[:, inds]\n",
    "        return np.einsum('ji, ji->i', s, s.conj())\n",
    "        return np.tensordot(s,  s.conj(), axes=[0, 0])"
   ]
  },
  {
   "cell_type": "code",
   "execution_count": 164,
   "id": "988c7f89",
   "metadata": {},
   "outputs": [
    {
     "data": {
      "text/plain": [
       "(2,)"
      ]
     },
     "execution_count": 164,
     "metadata": {},
     "output_type": "execute_result"
    }
   ],
   "source": [
    "nTrace = 2\n",
    "out = tracedProjEfficientv2(state, [1, 2], 2**nTrace)\n",
    "out.shape"
   ]
  },
  {
   "cell_type": "code",
   "execution_count": 165,
   "id": "57f353e1",
   "metadata": {},
   "outputs": [
    {
     "data": {
      "text/plain": [
       "array([8.0899238 +0.j, 4.14486986+0.j])"
      ]
     },
     "execution_count": 165,
     "metadata": {},
     "output_type": "execute_result"
    }
   ],
   "source": [
    "out"
   ]
  },
  {
   "cell_type": "code",
   "execution_count": 166,
   "id": "ee423c3b",
   "metadata": {},
   "outputs": [
    {
     "data": {
      "text/plain": [
       "(8.089923803289576+0j)"
      ]
     },
     "execution_count": 166,
     "metadata": {},
     "output_type": "execute_result"
    }
   ],
   "source": [
    "tracedProjEfficient(state, 1, 2**nTrace)"
   ]
  },
  {
   "cell_type": "code",
   "execution_count": 167,
   "id": "143e30cc",
   "metadata": {},
   "outputs": [
    {
     "data": {
      "text/plain": [
       "(4.1448698590350554+0j)"
      ]
     },
     "execution_count": 167,
     "metadata": {},
     "output_type": "execute_result"
    }
   ],
   "source": [
    "tracedProjEfficient(state, 2, 2**nTrace)"
   ]
  },
  {
   "cell_type": "code",
   "execution_count": 124,
   "id": "148b8c7a",
   "metadata": {},
   "outputs": [],
   "source": [
    "nQb = 4\n",
    "partitions = [1, 2, 3]\n",
    "tracedInd = [[0], [0, 1], [0, 1, 2]]\n",
    "\n",
    "state = np.random.randn(2**nQb) + 1j*np.random.randn(2**nQb)"
   ]
  },
  {
   "cell_type": "code",
   "execution_count": 169,
   "id": "767b8763",
   "metadata": {},
   "outputs": [
    {
     "name": "stdout",
     "output_type": "stream",
     "text": [
      "1\n",
      "True\n",
      "True\n",
      "\n",
      "2\n",
      "True\n",
      "True\n",
      "\n",
      "3\n",
      "True\n",
      "True\n",
      "\n"
     ]
    }
   ],
   "source": [
    "for traced, parts in zip(tracedInd, partitions):\n",
    "    print(parts)\n",
    "    pTrace = partialTrace(state, traced)\n",
    "    pTrace = [pTrace[i, i] for i in range(pTrace.shape[0])]\n",
    "    \n",
    "    pTraceEfficient = [tracedProjEfficient(state, i, 2**parts) for i in range(2**(nQb - parts))]\n",
    "    print(np.allclose(pTrace, pTraceEfficient))\n",
    "    \n",
    "    pTraceEfficient2 = tracedProjEfficientv2(state, range(2**(nQb - parts)), 2**parts)\n",
    "    print(np.allclose(pTrace, pTraceEfficient2))\n",
    "    print()"
   ]
  },
  {
   "cell_type": "code",
   "execution_count": 175,
   "id": "c3f5adf6",
   "metadata": {},
   "outputs": [
    {
     "name": "stdout",
     "output_type": "stream",
     "text": [
      "54.4 µs ± 949 ns per loop (mean ± std. dev. of 7 runs, 10,000 loops each)\n"
     ]
    }
   ],
   "source": [
    "%%timeit\n",
    "for traced, parts in zip(tracedInd, partitions):\n",
    "    pTrace = partialTrace(state, traced)\n",
    "    # pTrace = [pTrace[i, i] for i in range(pTrace.shape[0])]"
   ]
  },
  {
   "cell_type": "code",
   "execution_count": 171,
   "id": "b3985fb1",
   "metadata": {},
   "outputs": [
    {
     "name": "stdout",
     "output_type": "stream",
     "text": [
      "37.6 µs ± 1.81 µs per loop (mean ± std. dev. of 7 runs, 10,000 loops each)\n"
     ]
    }
   ],
   "source": [
    "%%timeit\n",
    "for traced, parts in zip(tracedInd, partitions):\n",
    "    pTraceEfficient = [tracedProjEfficient(state, i, 2**parts) for i in range(2**(nQb - parts))]"
   ]
  },
  {
   "cell_type": "code",
   "execution_count": 172,
   "id": "a41f86a5",
   "metadata": {},
   "outputs": [
    {
     "name": "stdout",
     "output_type": "stream",
     "text": [
      "28.1 µs ± 1.94 µs per loop (mean ± std. dev. of 7 runs, 10,000 loops each)\n"
     ]
    }
   ],
   "source": [
    "%%timeit\n",
    "for traced, parts in zip(tracedInd, partitions):\n",
    "    pTraceEfficient2 = tracedProjEfficientv2(state, range(2**(nQb - parts)), 2**parts)"
   ]
  },
  {
   "cell_type": "code",
   "execution_count": 174,
   "id": "45648d3c",
   "metadata": {},
   "outputs": [
    {
     "name": "stdout",
     "output_type": "stream",
     "text": [
      " "
     ]
    }
   ],
   "source": [
    "%%prun\n",
    "for traced, parts in zip(tracedInd, partitions):\n",
    "    pTraceEfficient2 = tracedProjEfficientv2(state, range(2**(nQb - parts)), 2**parts)"
   ]
  },
  {
   "cell_type": "code",
   "execution_count": null,
   "id": "2ac0824a",
   "metadata": {},
   "outputs": [],
   "source": []
  }
 ],
 "metadata": {
  "kernelspec": {
   "display_name": "Python 3 (ipykernel)",
   "language": "python",
   "name": "python3"
  },
  "language_info": {
   "codemirror_mode": {
    "name": "ipython",
    "version": 3
   },
   "file_extension": ".py",
   "mimetype": "text/x-python",
   "name": "python",
   "nbconvert_exporter": "python",
   "pygments_lexer": "ipython3",
   "version": "3.8.10"
  }
 },
 "nbformat": 4,
 "nbformat_minor": 5
}
