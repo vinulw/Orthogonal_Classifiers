{
 "cells": [
  {
   "cell_type": "code",
   "execution_count": 1,
   "id": "ff871a4e-b2ef-4f9e-bd8f-31ac1a29dbfb",
   "metadata": {},
   "outputs": [],
   "source": [
    "import numpy as np\n",
    "import os"
   ]
  },
  {
   "cell_type": "code",
   "execution_count": 38,
   "id": "ef0fdcd1-fb98-407a-961d-e696227e4a1d",
   "metadata": {},
   "outputs": [],
   "source": [
    "from stacking_simple import apply_U_rho, load_data, labelsToBitstrings, evaluate_classifier_top_k_accuracy\n",
    "from stacking_three import copy_state, pred_U_state"
   ]
  },
  {
   "cell_type": "code",
   "execution_count": 102,
   "id": "3eac3256-6820-4ccf-b45e-a4c966d15960",
   "metadata": {},
   "outputs": [],
   "source": [
    "base_path = '/mnt/c/Users/vwimalaweera/OneDrive - University College London/Project_Files/project-orthogonal_classifier/myriad_data/03052023162859_650236/classifier_U'\n",
    "np.random.seed(1)"
   ]
  },
  {
   "cell_type": "code",
   "execution_count": 103,
   "id": "d6101066-8ea7-4106-b458-957a300ed29c",
   "metadata": {},
   "outputs": [],
   "source": [
    "U_paths = [base_path + '/' + p for p in os.listdir(path)]"
   ]
  },
  {
   "cell_type": "code",
   "execution_count": 104,
   "id": "6ea92434-c0d9-417b-b1a7-96936395548d",
   "metadata": {},
   "outputs": [
    {
     "data": {
      "text/plain": [
       "['/mnt/c/Users/vwimalaweera/OneDrive - University College London/Project_Files/project-orthogonal_classifier/myriad_data/03052023162859_650236/classifier_U/step_100.npy']"
      ]
     },
     "execution_count": 104,
     "metadata": {},
     "output_type": "execute_result"
    }
   ],
   "source": [
    "U_paths"
   ]
  },
  {
   "cell_type": "markdown",
   "id": "3e2a5323-fc12-4d50-aaf9-e85db8dc2f0d",
   "metadata": {},
   "source": [
    "# Load data"
   ]
  },
  {
   "cell_type": "code",
   "execution_count": 105,
   "id": "7585a935-f478-4d03-a7d0-42ab0f2365ae",
   "metadata": {},
   "outputs": [],
   "source": [
    "prefix = \"data_dropbox/fashion_mnist/\"\n",
    "trainingPredPath = \"new_ortho_d_final_vs_training_predictions.npy\"\n",
    "trainingLabelPath = \"ortho_d_final_vs_training_predictions_labels.npy\"\n",
    "\n",
    "N = 1000\n",
    "\n",
    "trainingPred, trainingLabel = load_data(prefix + trainingPredPath,\n",
    "          prefix + trainingLabelPath,\n",
    "          N)"
   ]
  },
  {
   "cell_type": "markdown",
   "id": "04ab7605-6f47-4362-a6ba-e8f4e200683f",
   "metadata": {},
   "source": [
    "# Calculate the accuracies using the Us. "
   ]
  },
  {
   "cell_type": "code",
   "execution_count": 106,
   "id": "d2534a9b-9623-4c21-a70a-f8fed5ed47ce",
   "metadata": {},
   "outputs": [],
   "source": [
    "U = np.load(U_paths[0])"
   ]
  },
  {
   "cell_type": "code",
   "execution_count": 107,
   "id": "ef41c83c-fbc6-4df1-a816-e9050c379e19",
   "metadata": {},
   "outputs": [
    {
     "data": {
      "text/plain": [
       "3"
      ]
     },
     "execution_count": 107,
     "metadata": {},
     "output_type": "execute_result"
    }
   ],
   "source": [
    "n_copies = int(np.emath.logn(16, U.shape[0]))\n",
    "n_copies"
   ]
  },
  {
   "cell_type": "code",
   "execution_count": 108,
   "id": "98b339f8-e862-4390-bbaf-e89cd5ed5870",
   "metadata": {},
   "outputs": [],
   "source": [
    "trainStates = np.array([copy_state(s, n_copies) for s in trainingPred])\n",
    "trainLabelBs = labelsToBitstrings(trainingLabel, 4)"
   ]
  },
  {
   "cell_type": "code",
   "execution_count": 109,
   "id": "5889eeed-a66a-4815-afc2-f6383b18f3fe",
   "metadata": {},
   "outputs": [],
   "source": [
    "preds = pred_U_state(trainStates, U)"
   ]
  },
  {
   "cell_type": "code",
   "execution_count": 110,
   "id": "077da39e-0340-4ead-a7db-b39323d203ef",
   "metadata": {},
   "outputs": [
    {
     "data": {
      "text/plain": [
       "0.73"
      ]
     },
     "execution_count": 110,
     "metadata": {},
     "output_type": "execute_result"
    }
   ],
   "source": [
    "evaluate_classifier_top_k_accuracy(preds, trainingLabel, 1)"
   ]
  },
  {
   "cell_type": "markdown",
   "id": "6cf6b437-9769-4c3e-87fb-5def65d67e7b",
   "metadata": {},
   "source": [
    "## Get meta information from path"
   ]
  },
  {
   "cell_type": "code",
   "execution_count": 136,
   "id": "0f479062-a1e1-48e0-abf5-ec1da641c94e",
   "metadata": {},
   "outputs": [],
   "source": [
    "path = U_paths[0]"
   ]
  },
  {
   "cell_type": "code",
   "execution_count": 127,
   "id": "1c1b8790-4e61-4eb0-b7b4-f5a931c9eb03",
   "metadata": {},
   "outputs": [
    {
     "data": {
      "text/plain": [
       "'/mnt/c/Users/vwimalaweera/OneDrive - University College London/Project_Files/project-orthogonal_classifier/myriad_data/03052023162859_650236/classifier_U/step_100.npy'"
      ]
     },
     "execution_count": 127,
     "metadata": {},
     "output_type": "execute_result"
    }
   ],
   "source": [
    "path"
   ]
  },
  {
   "cell_type": "code",
   "execution_count": 128,
   "id": "41a0760b-a3d9-4cdc-8234-a0e1d76bf9a7",
   "metadata": {},
   "outputs": [],
   "source": [
    "r = re.compile('(\\d{14})_?(\\d{6})?')"
   ]
  },
  {
   "cell_type": "code",
   "execution_count": 130,
   "id": "b1ce7f25-9183-46e1-b4bd-d72302cfaa95",
   "metadata": {},
   "outputs": [
    {
     "data": {
      "text/plain": [
       "'03052023162859'"
      ]
     },
     "execution_count": 130,
     "metadata": {},
     "output_type": "execute_result"
    }
   ],
   "source": [
    "obj = r.search(path)\n",
    "obj.group(1)"
   ]
  },
  {
   "cell_type": "code",
   "execution_count": 131,
   "id": "4900b76f-a358-4856-a63f-988897bd9477",
   "metadata": {},
   "outputs": [],
   "source": [
    "path = '/mnt/c/Users/vwimalaweera/OneDrive - University College London/Project_Files/project-orthogonal_classifier/myriad_data/03052023162859/classifier_U/step_100.npy'"
   ]
  },
  {
   "cell_type": "code",
   "execution_count": 132,
   "id": "a74ec25e-4050-40de-bc31-9ed0725705da",
   "metadata": {},
   "outputs": [
    {
     "data": {
      "text/plain": [
       "'03052023162859'"
      ]
     },
     "execution_count": 132,
     "metadata": {},
     "output_type": "execute_result"
    }
   ],
   "source": [
    "obj = r.search(path)\n",
    "obj.group(1)"
   ]
  },
  {
   "cell_type": "code",
   "execution_count": 133,
   "id": "66df5d58-aef4-4a75-9c0e-406245255cc0",
   "metadata": {},
   "outputs": [],
   "source": [
    "obj.group(2)"
   ]
  },
  {
   "cell_type": "code",
   "execution_count": 124,
   "id": "50eceafe-eb74-4789-9b13-0cc66305e1f3",
   "metadata": {},
   "outputs": [],
   "source": [
    "r = re.compile('step_(\\d{2,3}).npy')"
   ]
  },
  {
   "cell_type": "code",
   "execution_count": 126,
   "id": "9bf17cf8-96b4-4242-8a5e-936ff3535f4b",
   "metadata": {},
   "outputs": [
    {
     "data": {
      "text/plain": [
       "'100'"
      ]
     },
     "execution_count": 126,
     "metadata": {},
     "output_type": "execute_result"
    }
   ],
   "source": [
    "obj = r.search(path)\n",
    "obj.group(1)"
   ]
  },
  {
   "cell_type": "code",
   "execution_count": 134,
   "id": "ef60c5df-9237-4698-bfff-c15b9ab3837e",
   "metadata": {},
   "outputs": [],
   "source": [
    "def get_meta_info(path):\n",
    "    '''\n",
    "    Get meta information about classifier including the data, job id (if present) and step number. \n",
    "    \n",
    "    Paths should be of the form: \n",
    "    - `.../{date}_{job_id}/.../step_{step_no}.npy`\n",
    "    - `.../{date}/.../step_{step_no}.npy`\n",
    "    \n",
    "    Where `date` is a 14 digit timestamp. `job_id` is 6 digits and `step_no` is number between (10, 999)\n",
    "    '''\n",
    "    r_date_jobid = re.compile('(\\d{14})_?(\\d{6})?')\n",
    "    r_step = re.compile('step_(\\d{2,3}).npy')\n",
    "    \n",
    "    searchObj = r_date_jobid.search(path)\n",
    "    date = searchObj.group(1)\n",
    "    jobid = searchObj.group(2)\n",
    "    \n",
    "    searchObj = r_step.search(path)\n",
    "    step = searchObj.group(1)\n",
    "    \n",
    "    return date, jobid, step"
   ]
  },
  {
   "cell_type": "code",
   "execution_count": 137,
   "id": "5ad2a107-9f5c-4ae0-a757-19e8ec64c996",
   "metadata": {},
   "outputs": [
    {
     "data": {
      "text/plain": [
       "'/mnt/c/Users/vwimalaweera/OneDrive - University College London/Project_Files/project-orthogonal_classifier/myriad_data/03052023162859_650236/classifier_U/step_100.npy'"
      ]
     },
     "execution_count": 137,
     "metadata": {},
     "output_type": "execute_result"
    }
   ],
   "source": [
    "path"
   ]
  },
  {
   "cell_type": "code",
   "execution_count": 138,
   "id": "b40b23aa-c95e-4b97-9b46-31f8a9097de2",
   "metadata": {},
   "outputs": [],
   "source": [
    "date, jobid, step = get_meta_info(path)"
   ]
  },
  {
   "cell_type": "code",
   "execution_count": 139,
   "id": "e88094e0-c789-44a8-a7e8-74dee3b8851c",
   "metadata": {},
   "outputs": [
    {
     "name": "stdout",
     "output_type": "stream",
     "text": [
      "03052023162859\n",
      "650236\n",
      "100\n"
     ]
    }
   ],
   "source": [
    "print(date)\n",
    "print(jobid)\n",
    "print(step)"
   ]
  },
  {
   "cell_type": "markdown",
   "id": "4cb860f9-eb32-45bc-b5d4-717edbeecebe",
   "metadata": {},
   "source": [
    "## Get Z Overlaps"
   ]
  },
  {
   "cell_type": "code",
   "execution_count": 140,
   "id": "e37b8dd7-bf8d-4cd8-90f5-1c7a85fe1aba",
   "metadata": {},
   "outputs": [],
   "source": [
    "from stacking_simple import calculate_ZOverlap, generate_Zi"
   ]
  },
  {
   "cell_type": "code",
   "execution_count": 145,
   "id": "782b39f0-aebc-4bdd-9caf-df4b61121d00",
   "metadata": {},
   "outputs": [],
   "source": [
    "U = np.load(U_paths[0])"
   ]
  },
  {
   "cell_type": "code",
   "execution_count": 143,
   "id": "47f1b4de-d2a7-472f-89d7-c40ceafaa740",
   "metadata": {},
   "outputs": [],
   "source": [
    "qNo = int(np.log2(trainStates.shape[1]))\n",
    "label_start = qNo-4"
   ]
  },
  {
   "cell_type": "code",
   "execution_count": 146,
   "id": "cf50d490-e71f-4906-8ab5-b700060cc32b",
   "metadata": {},
   "outputs": [],
   "source": [
    "Zls = []\n",
    "for i in range(qNo - label_start):\n",
    "    Zi = generate_Zi(qNo, i+1+label_start)\n",
    "    Zoverlaps = np.real(calculate_ZOverlap(trainStates, U, Zi))\n",
    "    Zls.append(Zoverlaps)"
   ]
  },
  {
   "cell_type": "code",
   "execution_count": 149,
   "id": "373be647-f01d-4fcd-89c1-a08e899e4132",
   "metadata": {},
   "outputs": [],
   "source": [
    "Zls = np.array(Zls)"
   ]
  },
  {
   "cell_type": "code",
   "execution_count": 150,
   "id": "ea3c168a-a285-4490-9df3-b9ea91832f6a",
   "metadata": {},
   "outputs": [
    {
     "data": {
      "text/plain": [
       "(4, 1000)"
      ]
     },
     "execution_count": 150,
     "metadata": {},
     "output_type": "execute_result"
    }
   ],
   "source": [
    "Zls.shape"
   ]
  },
  {
   "cell_type": "markdown",
   "id": "d2bc6924-d20d-43b8-91c8-0bcecf8d4e5d",
   "metadata": {},
   "source": [
    "## Extracting unitaries from tar.gz files"
   ]
  },
  {
   "cell_type": "code",
   "execution_count": 40,
   "id": "173f947c-f911-43a6-87b1-11a414e1ef0c",
   "metadata": {},
   "outputs": [],
   "source": [
    "path = '/mnt/c/Users/vwimalaweera/OneDrive - University College London/Project_Files/project-orthogonal_classifier/myriad_data'\n",
    "libs = os.listdir(path)"
   ]
  },
  {
   "cell_type": "code",
   "execution_count": 41,
   "id": "8523956e-ff6f-4bdd-b098-6b7c048704b2",
   "metadata": {},
   "outputs": [
    {
     "data": {
      "text/plain": [
       "['03052023122620',\n",
       " '03052023122620_646288',\n",
       " 'files_from_job_646287.tar.gz',\n",
       " 'files_from_job_646288.tar.gz',\n",
       " 'files_from_job_650236.tar.gz',\n",
       " 'stacking_three_copy.e646287',\n",
       " 'stacking_three_copy.e650236',\n",
       " 'stacking_three_copy.e711727',\n",
       " 'stacking_three_copy.o646287',\n",
       " 'stacking_three_copy.o650236',\n",
       " 'stacking_three_copy.o711727',\n",
       " 'stacking_three_copy_red.e646288',\n",
       " 'stacking_three_copy_red.e711729',\n",
       " 'stacking_three_copy_red.o646288',\n",
       " 'stacking_three_copy_red.o711729']"
      ]
     },
     "execution_count": 41,
     "metadata": {},
     "output_type": "execute_result"
    }
   ],
   "source": [
    "libs"
   ]
  },
  {
   "cell_type": "code",
   "execution_count": 42,
   "id": "ecf6ab18-b41c-42c4-81d8-601fc07c0ae3",
   "metadata": {},
   "outputs": [],
   "source": [
    "import re"
   ]
  },
  {
   "cell_type": "code",
   "execution_count": 81,
   "id": "c4359654-c0e8-48ac-a4d7-652e420fbe1d",
   "metadata": {},
   "outputs": [],
   "source": [
    "r = re.compile(\"\\.tar\\.gz$\")"
   ]
  },
  {
   "cell_type": "code",
   "execution_count": 85,
   "id": "6b369261-dabb-44a8-9ff3-557dca40ae0e",
   "metadata": {},
   "outputs": [
    {
     "name": "stdout",
     "output_type": "stream",
     "text": [
      "Matched: files_from_job_646287.tar.gz\n",
      "Matched: files_from_job_646288.tar.gz\n",
      "Matched: files_from_job_650236.tar.gz\n"
     ]
    }
   ],
   "source": [
    "tar_files = []\n",
    "for p in libs:\n",
    "    if r.search(p):\n",
    "        print(f'Matched: {p}')\n",
    "        tar_files.append(path + '/' + p)"
   ]
  },
  {
   "cell_type": "code",
   "execution_count": 86,
   "id": "23936aae-d8a0-48d2-9fd2-689867d85fec",
   "metadata": {},
   "outputs": [
    {
     "data": {
      "text/plain": [
       "['/mnt/c/Users/vwimalaweera/OneDrive - University College London/Project_Files/project-orthogonal_classifier/myriad_data/files_from_job_646287.tar.gz',\n",
       " '/mnt/c/Users/vwimalaweera/OneDrive - University College London/Project_Files/project-orthogonal_classifier/myriad_data/files_from_job_646288.tar.gz',\n",
       " '/mnt/c/Users/vwimalaweera/OneDrive - University College London/Project_Files/project-orthogonal_classifier/myriad_data/files_from_job_650236.tar.gz']"
      ]
     },
     "execution_count": 86,
     "metadata": {},
     "output_type": "execute_result"
    }
   ],
   "source": [
    "tar_files"
   ]
  },
  {
   "cell_type": "code",
   "execution_count": 87,
   "id": "a2b796ae-0fb6-4603-8100-ed328e097606",
   "metadata": {},
   "outputs": [],
   "source": [
    "import tarfile"
   ]
  },
  {
   "cell_type": "code",
   "execution_count": 100,
   "id": "d62c020a-65a9-437a-8e58-af4a0add84fd",
   "metadata": {},
   "outputs": [],
   "source": [
    "with tarfile.open(tar_files[0], 'r') as tfile:\n",
    "    #print(tfile.list(verbose=False))\n",
    "    \n",
    "    # obj = tfile.extract('tmpdir/job/646287.undefined/tanh_3_copy/03052023122620/classifier_U/step_100.npy')\n",
    "    obj = tfile.extractfile('tmpdir/job/646287.undefined/tanh_3_copy/03052023122620/run_data.csv')\n",
    "    \n",
    "    data = np.loadtxt(obj, delimiter=',')\n",
    "    obj.close()"
   ]
  },
  {
   "cell_type": "code",
   "execution_count": 101,
   "id": "87bef1d7-d28d-4003-ab43-63985621be28",
   "metadata": {},
   "outputs": [
    {
     "data": {
      "text/plain": [
       "array([[0.776     , 3.45892107, 0.05      ],\n",
       "       [0.694     , 3.45892107, 0.05      ],\n",
       "       [0.672     , 3.17664439, 0.04830918],\n",
       "       [0.708     , 2.96171115, 0.04672897],\n",
       "       [0.666     , 3.11310782, 0.04524887],\n",
       "       [0.702     , 3.14378702, 0.04385965],\n",
       "       [0.75      , 3.13686443, 0.04255319],\n",
       "       [0.75      , 3.18939753, 0.04132231],\n",
       "       [0.726     , 3.2831634 , 0.04016064],\n",
       "       [0.712     , 3.14651937, 0.0390625 ],\n",
       "       [0.684     , 3.2289284 , 0.03802281],\n",
       "       [0.61      , 3.19567755, 0.03703704],\n",
       "       [0.622     , 2.91432093, 0.03610108],\n",
       "       [0.716     , 2.95197821, 0.03521127],\n",
       "       [0.734     , 3.23262837, 0.03436426],\n",
       "       [0.752     , 3.25317271, 0.03355705],\n",
       "       [0.746     , 3.22207511, 0.03278689],\n",
       "       [0.756     , 3.20483737, 0.03205128],\n",
       "       [0.718     , 3.26375206, 0.03134796],\n",
       "       [0.734     , 3.1656946 , 0.03067485],\n",
       "       [0.738     , 3.23975117, 0.03003003],\n",
       "       [0.706     , 3.20704183, 0.02941176],\n",
       "       [0.732     , 3.19545442, 0.02881844],\n",
       "       [0.716     , 3.25171129, 0.02824859],\n",
       "       [0.722     , 3.2419515 , 0.02770083],\n",
       "       [0.732     , 3.26862999, 0.02717391],\n",
       "       [0.704     , 3.26084222, 0.02666667],\n",
       "       [0.706     , 3.17329248, 0.02617801],\n",
       "       [0.76      , 3.23226073, 0.02570694],\n",
       "       [0.73      , 3.3062926 , 0.02525253],\n",
       "       [0.672     , 3.29138591, 0.0248139 ],\n",
       "       [0.66      , 3.23046452, 0.02439024],\n",
       "       [0.666     , 3.23808082, 0.02398082],\n",
       "       [0.67      , 3.20107453, 0.02358491],\n",
       "       [0.678     , 3.2782336 , 0.02320186],\n",
       "       [0.696     , 3.28442672, 0.02283105],\n",
       "       [0.692     , 3.23080564, 0.02247191],\n",
       "       [0.7       , 3.30120698, 0.02212389],\n",
       "       [0.696     , 3.32389421, 0.02178649],\n",
       "       [0.668     , 3.31885616, 0.02145923],\n",
       "       [0.668     , 3.29857749, 0.02114165],\n",
       "       [0.724     , 3.31328744, 0.02083333],\n",
       "       [0.696     , 3.35405522, 0.02053388],\n",
       "       [0.682     , 3.31786308, 0.02024291],\n",
       "       [0.736     , 3.28383916, 0.01996008],\n",
       "       [0.752     , 3.33027114, 0.01968504],\n",
       "       [0.736     , 3.33991212, 0.01941748],\n",
       "       [0.75      , 3.37292443, 0.01915709],\n",
       "       [0.698     , 3.35949581, 0.01890359],\n",
       "       [0.758     , 3.33720544, 0.01865672],\n",
       "       [0.764     , 3.37749564, 0.01841621],\n",
       "       [0.726     , 3.38024686, 0.01818182],\n",
       "       [0.716     , 3.35835207, 0.01795332],\n",
       "       [0.702     , 3.35007863, 0.0177305 ],\n",
       "       [0.718     , 3.27081123, 0.01751313],\n",
       "       [0.726     , 3.363601  , 0.01730104],\n",
       "       [0.752     , 3.3518164 , 0.01709402],\n",
       "       [0.78      , 3.35967424, 0.01689189],\n",
       "       [0.756     , 3.38122445, 0.01669449],\n",
       "       [0.776     , 3.36141975, 0.01650165],\n",
       "       [0.756     , 3.40292542, 0.01631321],\n",
       "       [0.77      , 3.39052095, 0.01612903],\n",
       "       [0.78      , 3.39760696, 0.01594896],\n",
       "       [0.786     , 3.37799021, 0.01577287],\n",
       "       [0.78      , 3.39928133, 0.01560062],\n",
       "       [0.786     , 3.38355898, 0.0154321 ],\n",
       "       [0.792     , 3.42038471, 0.01526718],\n",
       "       [0.794     , 3.41540224, 0.01510574],\n",
       "       [0.792     , 3.38382156, 0.01494768],\n",
       "       [0.788     , 3.40163251, 0.0147929 ],\n",
       "       [0.794     , 3.40177804, 0.01464129],\n",
       "       [0.784     , 3.38369454, 0.01449275],\n",
       "       [0.786     , 3.41117181, 0.0143472 ],\n",
       "       [0.778     , 3.37739909, 0.01420455],\n",
       "       [0.786     , 3.33430592, 0.0140647 ],\n",
       "       [0.784     , 3.42343402, 0.01392758],\n",
       "       [0.778     , 3.42206766, 0.0137931 ],\n",
       "       [0.782     , 3.42565172, 0.0136612 ],\n",
       "       [0.786     , 3.419186  , 0.0135318 ],\n",
       "       [0.776     , 3.4271071 , 0.01340483],\n",
       "       [0.782     , 3.41855468, 0.01328021],\n",
       "       [0.756     , 3.42443424, 0.01315789],\n",
       "       [0.768     , 3.39360133, 0.01303781],\n",
       "       [0.754     , 3.4020085 , 0.0129199 ],\n",
       "       [0.768     , 3.36573979, 0.0128041 ],\n",
       "       [0.75      , 3.38869942, 0.01269036],\n",
       "       [0.756     , 3.40311906, 0.01257862],\n",
       "       [0.77      , 3.38469471, 0.01246883],\n",
       "       [0.774     , 3.38772328, 0.01236094],\n",
       "       [0.79      , 3.39654372, 0.0122549 ],\n",
       "       [0.776     , 3.41799375, 0.01215067],\n",
       "       [0.774     , 3.40714534, 0.01204819],\n",
       "       [0.776     , 3.44165285, 0.01194743],\n",
       "       [0.778     , 3.4206426 , 0.01184834],\n",
       "       [0.778     , 3.42413683, 0.01175088],\n",
       "       [0.786     , 3.42431096, 0.01165501],\n",
       "       [0.786     , 3.42454355, 0.01156069],\n",
       "       [0.77      , 3.43647733, 0.01146789],\n",
       "       [0.772     , 3.37478977, 0.01137656],\n",
       "       [0.778     , 3.37486676, 0.01128668],\n",
       "       [0.776     , 3.40109753, 0.01119821]])"
      ]
     },
     "execution_count": 101,
     "metadata": {},
     "output_type": "execute_result"
    }
   ],
   "source": [
    "data"
   ]
  },
  {
   "cell_type": "code",
   "execution_count": null,
   "id": "5a1910b1-2336-4bb7-98e3-caaf19d01e77",
   "metadata": {},
   "outputs": [],
   "source": []
  }
 ],
 "metadata": {
  "kernelspec": {
   "display_name": "Python 3 (ipykernel)",
   "language": "python",
   "name": "python3"
  },
  "language_info": {
   "codemirror_mode": {
    "name": "ipython",
    "version": 3
   },
   "file_extension": ".py",
   "mimetype": "text/x-python",
   "name": "python",
   "nbconvert_exporter": "python",
   "pygments_lexer": "ipython3",
   "version": "3.8.10"
  }
 },
 "nbformat": 4,
 "nbformat_minor": 5
}
